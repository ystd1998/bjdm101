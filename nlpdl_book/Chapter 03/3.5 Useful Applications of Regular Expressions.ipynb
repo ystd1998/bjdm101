{
 "cells": [
  {
   "cell_type": "markdown",
   "metadata": {
    "deletable": true,
    "editable": true
   },
   "source": [
    "## Extracting Word Pieces"
   ]
  },
  {
   "cell_type": "code",
   "execution_count": 2,
   "metadata": {
    "collapsed": false,
    "deletable": true,
    "editable": true
   },
   "outputs": [
    {
     "data": {
      "text/plain": [
       "['u',\n",
       " 'e',\n",
       " 'a',\n",
       " 'i',\n",
       " 'a',\n",
       " 'i',\n",
       " 'i',\n",
       " 'i',\n",
       " 'e',\n",
       " 'i',\n",
       " 'a',\n",
       " 'i',\n",
       " 'o',\n",
       " 'i',\n",
       " 'o',\n",
       " 'u']"
      ]
     },
     "execution_count": 2,
     "metadata": {},
     "output_type": "execute_result"
    }
   ],
   "source": [
    "from nltk import re\n",
    "word = 'supercalifragilisticexpialidocious'\n",
    "re.findall(r'[aeiou]', word)"
   ]
  },
  {
   "cell_type": "code",
   "execution_count": 3,
   "metadata": {
    "collapsed": false,
    "deletable": true,
    "editable": true
   },
   "outputs": [
    {
     "data": {
      "text/plain": [
       "16"
      ]
     },
     "execution_count": 3,
     "metadata": {},
     "output_type": "execute_result"
    }
   ],
   "source": [
    "len(re.findall(r'[aeiou]', word))"
   ]
  },
  {
   "cell_type": "code",
   "execution_count": 5,
   "metadata": {
    "collapsed": false,
    "deletable": true,
    "editable": true
   },
   "outputs": [],
   "source": [
    "import nltk\n",
    "wsj = sorted(set(nltk.corpus.treebank.words()))\n",
    "fd = nltk.FreqDist(vs for word in wsj\n",
    "                      for vs in re.findall(r'[aeiou]{2,}', word))"
   ]
  },
  {
   "cell_type": "code",
   "execution_count": 6,
   "metadata": {
    "collapsed": false,
    "deletable": true,
    "editable": true
   },
   "outputs": [
    {
     "data": {
      "text/plain": [
       "[('io', 549),\n",
       " ('ea', 476),\n",
       " ('ie', 331),\n",
       " ('ou', 329),\n",
       " ('ai', 261),\n",
       " ('ia', 253),\n",
       " ('ee', 217),\n",
       " ('oo', 174),\n",
       " ('ua', 109),\n",
       " ('au', 106),\n",
       " ('ue', 105),\n",
       " ('ui', 95)]"
      ]
     },
     "execution_count": 6,
     "metadata": {},
     "output_type": "execute_result"
    }
   ],
   "source": [
    "fd.most_common(12)"
   ]
  },
  {
   "cell_type": "code",
   "execution_count": 14,
   "metadata": {
    "collapsed": false,
    "deletable": true,
    "editable": true
   },
   "outputs": [
    {
     "data": {
      "text/plain": [
       "[2009, 12, 31]"
      ]
     },
     "execution_count": 14,
     "metadata": {},
     "output_type": "execute_result"
    }
   ],
   "source": [
    "[int(n) for n in re.findall('[0-9]{2,4}', '2009-12-31')]"
   ]
  },
  {
   "cell_type": "markdown",
   "metadata": {
    "deletable": true,
    "editable": true
   },
   "source": [
    "## Doing More with Word Pieces"
   ]
  },
  {
   "cell_type": "code",
   "execution_count": 41,
   "metadata": {
    "collapsed": true,
    "deletable": true,
    "editable": true
   },
   "outputs": [],
   "source": [
    "regexp = r'^[AEIOUaeiou]+|[AEIOUaeiou]+$|[^AEIOUaeiou]'\n",
    "## at the start one or more vowels\n",
    "## at the end one or more vowels\n",
    "## in the middle, consonants\n",
    "\n",
    "def compress(word):\n",
    "    pieces = re.findall(regexp, word)\n",
    "    return ''.join(pieces)"
   ]
  },
  {
   "cell_type": "code",
   "execution_count": 42,
   "metadata": {
    "collapsed": false,
    "deletable": true,
    "editable": true
   },
   "outputs": [
    {
     "data": {
      "text/plain": [
       "'insghts'"
      ]
     },
     "execution_count": 42,
     "metadata": {},
     "output_type": "execute_result"
    }
   ],
   "source": [
    "compress('insights')"
   ]
  },
  {
   "cell_type": "code",
   "execution_count": 43,
   "metadata": {
    "collapsed": false,
    "deletable": true,
    "editable": true
   },
   "outputs": [
    {
     "data": {
      "text/plain": [
       "'inlnble'"
      ]
     },
     "execution_count": 43,
     "metadata": {},
     "output_type": "execute_result"
    }
   ],
   "source": [
    "compress('inalienable')"
   ]
  },
  {
   "cell_type": "code",
   "execution_count": 47,
   "metadata": {
    "collapsed": false,
    "deletable": true,
    "editable": true
   },
   "outputs": [
    {
     "name": "stdout",
     "output_type": "stream",
     "text": [
      "Unvrsl Dclrtn of Hmn Rghts Prmble Whrs rcgntn of the inhrnt dgnty and\n",
      "of the eql and inlnble rghts of all mmbrs of the hmn fmly is the fndtn\n",
      "of frdm , jstce and pce in the wrld , Whrs dsrgrd and cntmpt fr hmn\n",
      "rghts hve rsltd in brbrs acts whch hve outrgd the cnscnce of mnknd ,\n",
      "and the advnt of a wrld in whch hmn bngs shll enjy frdm of spch and\n"
     ]
    }
   ],
   "source": [
    "english_udhr = nltk.corpus.udhr.words('English-Latin1')\n",
    "print(nltk.tokenwrap(compress(w) for w in english_udhr[:75]))"
   ]
  },
  {
   "cell_type": "code",
   "execution_count": 48,
   "metadata": {
    "collapsed": false,
    "deletable": true,
    "editable": true
   },
   "outputs": [
    {
     "name": "stdout",
     "output_type": "stream",
     "text": [
      "    a   e   i   o   u \n",
      "k 418 148  94 420 173 \n",
      "p  83  31 105  34  51 \n",
      "r 187  63  84  89  79 \n",
      "s   0   0 100   2   1 \n",
      "t  47   8   0 148  37 \n",
      "v  93  27 105  48  49 \n"
     ]
    }
   ],
   "source": [
    "rotokas_words = nltk.corpus.toolbox.words('rotokas.dic')\n",
    "cvs = [cv for w in rotokas_words for cv in re.findall(r'[ptksvr][aeiou]', w)]\n",
    "cfd = nltk.ConditionalFreqDist(cvs)\n",
    "cfd.tabulate()"
   ]
  },
  {
   "cell_type": "code",
   "execution_count": 51,
   "metadata": {
    "collapsed": false,
    "deletable": true,
    "editable": true
   },
   "outputs": [],
   "source": [
    "f = open('../Chapter 1/text.txt')\n",
    "raw = f.read()\n",
    "tokens = word_tokenize(raw)\n",
    "fd = nltk.FreqDist(vs for word in tokens\n",
    "                      for vs in re.findall(r'[aeiou]{2,}', word))\n",
    "fd.most_common(12)"
   ]
  },
  {
   "cell_type": "code",
   "execution_count": 52,
   "metadata": {
    "collapsed": false,
    "deletable": true,
    "editable": true
   },
   "outputs": [
    {
     "data": {
      "text/plain": [
       "[('ue', 21),\n",
       " ('ia', 20),\n",
       " ('ie', 20),\n",
       " ('io', 14),\n",
       " ('ua', 7),\n",
       " ('uie', 4),\n",
       " ('eo', 2),\n",
       " ('ea', 2),\n",
       " ('ui', 1),\n",
       " ('ao', 1),\n",
       " ('iu', 1),\n",
       " ('au', 1)]"
      ]
     },
     "execution_count": 52,
     "metadata": {},
     "output_type": "execute_result"
    }
   ],
   "source": []
  },
  {
   "cell_type": "code",
   "execution_count": 54,
   "metadata": {
    "collapsed": false,
    "deletable": true,
    "editable": true
   },
   "outputs": [
    {
     "data": {
      "text/plain": [
       "[('de', 50),\n",
       " ('la', 39),\n",
       " ('re', 31),\n",
       " ('co', 30),\n",
       " ('ra', 30),\n",
       " ('ta', 29),\n",
       " ('po', 25),\n",
       " ('se', 25),\n",
       " ('te', 23),\n",
       " ('no', 20),\n",
       " ('do', 19),\n",
       " ('ro', 19)]"
      ]
     },
     "execution_count": 54,
     "metadata": {},
     "output_type": "execute_result"
    }
   ],
   "source": [
    "fd = nltk.FreqDist(vs for word in tokens\n",
    "                      for vs in re.findall(r'[^aeiou][aeiou]+', word))\n",
    "fd.most_common(12)"
   ]
  },
  {
   "cell_type": "code",
   "execution_count": 61,
   "metadata": {
    "collapsed": false,
    "deletable": true,
    "editable": true
   },
   "outputs": [
    {
     "data": {
      "text/plain": [
       "[('que', 17),\n",
       " ('cia', 13),\n",
       " ('cie', 7),\n",
       " ('rio', 5),\n",
       " ('cio', 4),\n",
       " ('quie', 4),\n",
       " ('cua', 3),\n",
       " ('bie', 3),\n",
       " ('pue', 2),\n",
       " ('ria', 2),\n",
       " ('mie', 2),\n",
       " ('bia', 2)]"
      ]
     },
     "execution_count": 61,
     "metadata": {},
     "output_type": "execute_result"
    }
   ],
   "source": [
    "fd = nltk.FreqDist(vs for word in tokens\n",
    "                      for vs in re.findall(r'[^aeiou][aeiou]{2,3}', word))\n",
    "fd.most_common(12)"
   ]
  },
  {
   "cell_type": "code",
   "execution_count": 74,
   "metadata": {
    "collapsed": false,
    "deletable": true,
    "editable": true
   },
   "outputs": [
    {
     "data": {
      "text/plain": [
       "[('de', 50),\n",
       " ('la', 39),\n",
       " ('re', 31),\n",
       " ('co', 30),\n",
       " ('ra', 30),\n",
       " ('ta', 29),\n",
       " ('po', 25),\n",
       " ('se', 25),\n",
       " ('te', 23),\n",
       " ('no', 20),\n",
       " ('do', 19),\n",
       " ('ro', 19),\n",
       " ('so', 19),\n",
       " ('lo', 18),\n",
       " ('ca', 18),\n",
       " ('ti', 18),\n",
       " ('to', 17),\n",
       " ('que', 17),\n",
       " ('le', 16),\n",
       " ('li', 16)]"
      ]
     },
     "execution_count": 74,
     "metadata": {},
     "output_type": "execute_result"
    }
   ],
   "source": [
    "fd = nltk.FreqDist(vs for word in tokens\n",
    "                      for vs in re.findall(r'[^aeiou][aeiou]{1,2}', word))\n",
    "fd.most_common(20)"
   ]
  },
  {
   "cell_type": "code",
   "execution_count": 84,
   "metadata": {
    "collapsed": false,
    "deletable": true,
    "editable": true
   },
   "outputs": [
    {
     "data": {
      "text/plain": [
       "895"
      ]
     },
     "execution_count": 84,
     "metadata": {},
     "output_type": "execute_result"
    }
   ],
   "source": [
    "cv_word_pairs = [(cv, w) for w in tokens\n",
    "                         for cv in re.findall(r'[^aeiou][aeiou]+', w)]\n",
    "len(cv_word_pairs)"
   ]
  },
  {
   "cell_type": "code",
   "execution_count": 85,
   "metadata": {
    "collapsed": true,
    "deletable": true,
    "editable": true
   },
   "outputs": [],
   "source": [
    "cv_index = nltk.Index(cv_word_pairs)"
   ]
  },
  {
   "cell_type": "code",
   "execution_count": 86,
   "metadata": {
    "collapsed": false,
    "deletable": true,
    "editable": true
   },
   "outputs": [
    {
     "data": {
      "text/plain": [
       "138"
      ]
     },
     "execution_count": 86,
     "metadata": {},
     "output_type": "execute_result"
    }
   ],
   "source": [
    "len(cv_index)"
   ]
  },
  {
   "cell_type": "code",
   "execution_count": 87,
   "metadata": {
    "collapsed": false,
    "deletable": true,
    "editable": true
   },
   "outputs": [
    {
     "name": "stdout",
     "output_type": "stream",
     "text": [
      "defaultdict(<class 'list'>, {'La': ['La', 'La', 'La'], 'ma': ['marcha', 'paradigma', 'paradigmas', 'manera', 'problema', 'paradigma', 'encima', 'Humanos'], 'ha': ['marcha', 'ha', 'chicha”', 'hacen', 'ha', 'hace', 'ha', 'hacer'], 'Co': ['ConMisHijosNoTeMetas', 'Colombia', 'Colombia', 'Como'], 'Mi': ['ConMisHijosNoTeMetas'], 'Hi': ['ConMisHijosNoTeMetas'], 'jo': ['ConMisHijosNoTeMetas'], 'No': ['ConMisHijosNoTeMetas', 'No'], 'Te': ['ConMisHijosNoTeMetas'], 'Me': ['ConMisHijosNoTeMetas'], 'ta': ['ConMisHijosNoTeMetas', 'importantes', 'respuestas', 'igualitaria', 'detenta', 'Periodistas', 'directamente', 'ataca', 'elementales', 'enlistan', 'disputa', 'enfrentado', 'confrontación', 'estas', 'estatus', 'estalla', 'estamos', 'disputa', 'establecido', 'intenta', 'antiestablishment', 'insulta', 'vista', 'estalla', 'respuesta', 'protestas', 'ambientales', 'asalta', 'también'], 'si': ['sido', 'posiciones', 'posiciones', 'situación', 'sino', 'división', 'posición', 'ofensiva', 'siniestra', 'significa', 'exclusivamente'], 'do': ['sido', 'conservadoras', 'conservadora', 'apreciado', 'asociados', 'asociados', 'lado', 'enfrentado', 'documentos', 'desordenado', 'cuando', 'exhibiendo', 'perdido', 'sentido', 'establecido', 'perdido', 'endose', 'cuando', 'bandos'], 'na': ['una', 'una', 'urnas', 'personales', 'razonamiento', 'desordenado', 'una', 'una', 'encarnación', 'plana”', 'narices', 'gobernar', 'Analizan', 'inamovilidad', 'una'], 'de': ['de', 'de', 'de', 'derechos', 'de', 'del', 'detenta', 'de', '“líderes', 'de', 'de', 'de', 'poderosas', 'identidades', 'identidades', 'defiende', 'defiende', 'de', 'de', 'de', 'de', 'de', 'desordenado', 'desordenado', 'de', 'desencuentros', 'de', 'de', 'de', 'defienden', 'defienden', 'de', 'de', 'de', 'de', 'de', 'desde', 'desde', 'del', 'del', 'de', 'de', 'del', 'de', 'desconocen', 'desde', 'desde', 'de', 'de', 'comprenden'], 'la': ['las', 'las', 'ola', 'gatillada', 'la', 'contraola', 'las', 'la', 'la', 'polarización', 'la', 'la', 'las', 'la', 'las', 'las', 'lado', 'la', 'apela', 'la', 'clase', 'la', 'polarización', 'la', 'la', 'las', 'estalla', 'escolar', 'la', 'la', 'Klan”', '“la', 'plana”', 'estalla', 'las', 'la', 'la', 'las', 'la'], 'po': ['importantes', 'políticas', 'por', 'polarización', 'campo', 'posiciones', 'politización', 'por', 'poderosas', 'porque', 'porque', 'grupo', 'posverdad', 'posiciones', 'superpone', 'polarización', 'presupone', 'porque', 'ponerse', 'posición', 'tipo', 'política', 'ponerse', 'por', 'políticas'], 'te': ['importantes', 'detenta', 'atemorizan', 'Butters', 'directamente', 'convierten', 'intercambio', 'ante', 'ante', 'intenta', 'ignorantes”', 'siente', 'perteneciente', 'perteneciente', '“aborteros”', 'Usted', 'Este', 'carente', 'exclusivamente', 'protestas', 'ante', 'Ante', 'especialmente'], 're': ['respuestas', '–reconocimiento', 'derechos', 'respeto', 'mujeres', 'apreciado', 'Brexit', 'referéndum', 'valores', '“líderes', 'prensa', 'directamente', 'enfrentado', 'religioso', 'sobre', 'previos', 'valores', 'presupone', 'ingreso', 'irreconciliable', 'entre', '“progre”', '“promotores', 'carente', 'respuesta', 'Pareciera', 'empresa', 'sectores', 'Derechos', 'parecen', 'comprenden'], 'pue': ['respuestas', 'respuesta'], 'co': ['conservadoras', '–reconocimiento', 'comunidad', 'contraola', 'conservadora', 'colectivos', 'con', 'comparación', 'con', 'como', 'científico', 'confrontación', 'científicos', 'convierten', 'sociológicos', 'consecuencia', 'conflicto', 'irreconciliable', 'escolar', 'convivencia', 'comunidad', '“conserva”', 'conflicto', 'economía', 'desconocen', 'conflictos', 'conflictos', 'valóricos', 'consensuar', 'comprenden'], 'se': ['conservadoras', 'homosexual', 'conservadora', 'se', 'países', 'se', 'se', 'se', 'se', 'desencuentros', 'clase', 'se', 'se', 'consecuencia', 'serio', 'sentido', 'ponerse', '“conserva”', 'se', 'se', 'endose', 'ponerse', 'consensuar', 'sectores', 'ser'], 'va': ['conservadoras', 'iniciativas', 'conservadora', 'valores', 'evangélicas', 'motivaciones', 'valores', 'ofensiva', '“conserva”', 'exclusivamente', 'valóricos'], 'ra': ['conservadoras', 'liberales', 'para', 'para', 'conservadora', 'comparación', 'morales', 'para', 'paradigma', 'razonamiento', 'estructuras', 'morales', 'sagradas', 'escrituras', 'paradigmas', 'razón”', 'jerarquías', 'manera', 'grave', 'ignorantes”', 'Tierra', 'diestra', 'siniestra', 'cualquiera', 'paradigma', 'Pareciera', 'para', 'administrar', 'anteojeras', 'ignora'], 'lo': ['locales', 'los', 'Colombia', 'valores', 'Colombia', 'ejemplo', 'lo', '“ideología”', 'valores', 'ejemplo', 'lo', 'currículo', 'lo', 'lobby', 'ellos', 'los', 'los', 'Ellos'], 'ca': ['locales', 'políticas', 'campo', 'evangélicas', 'calles', 'ataca', 'toca', 'pública', 'intercambio', 'educativo', 'encarnación', 'burlesca', 'carente', 'política', 'significa', 'políticas', 'públicas', 'Educación'], 'le': ['locales', 'liberales', 'iglesias', 'colectivos', 'calles', 'morales', 'personales', 'elementales', 'elementales', 'morales', 'irreconciliable', 'problema', 'establecido', 'burlesca', 'ambientales', 'les'], 'ni': ['iniciativas', 'nivel', 'comunidad', 'opinión”', 'nivel', 'nivel', 'comunidad', 'significa', 'administrar'], 'cia': ['iniciativas', 'apreciado', 'asociados', 'eminencia', 'asociados', 'social', 'social', 'consecuencia', 'convivencia', 'social', 'social', 'especialmente', 'Justicia'], 'ti': ['iniciativas', 'últimos', 'gatillada', 'políticas', 'colectivos', 'politización', 'motivaciones', 'activismo', 'identidades', 'justifique', 'educativo', 'sentido', 'tipo', 'política', 'Ejecutivo', 'Ejecutivo', 'políticas', 'Justicia'], 'li': ['liberales', 'igualitaria', 'evangélicas', '¿Phillip', 'politización', 'enlistan', 'religioso', 'pública', 'conflicto', 'antiestablishment', 'conflicto', 'conflictos', 'Analizan', 'inamovilidad', 'conflictos', 'públicas'], 'be': ['liberales', 'gobernar'], 'mo': ['últimos', 'homosexual', 'hemos', 'atemorizan', 'morales', 'motivaciones', 'activismo', 'como', 'morales', 'Como', 'estamos', '“promotores', 'mismo', 'inamovilidad', 'cómo'], 'ño': ['años'], 'gua': ['igualitaria'], 'ria': ['igualitaria', 'victoria'], 'ga': ['gatillada', 'lugar', 'gay”'], 'da': ['gatillada', 'comunidad', 'equidad', 'sociedad', 'ciudadano', 'ciudadano', 'identidades', 'Cada', 'sagradas', 'posverdad', '“superioridad', 'comunidad', 'sociedad', 'inamovilidad', 'sociedad'], 've': ['nivel', 'nivel', 'posverdad', 'nivel', 'grave', 'convivencia'], 'mu': ['mundial', 'comunidad', 'mujeres', 'comunidad'], 'dia': ['mundial'], 'no': ['–reconocimiento', 'torno', 'algunos', 'menor', 'ciudadano', 'uno', 'uno', 'no', 'torno', 'sino', '“nosotros”', '“unos”', 'ajeno', 'ignorantes”', 'gobierno', 'economía', 'desconocen', 'ignora', 'Humanos', 'no'], 'ci': ['–reconocimiento', 'polarización', 'civil', 'politización', 'comparación', 'confrontación', 'polarización', 'irreconciliable', 'situación', 'establecido', 'posición', 'encarnación', 'encima', 'Educación'], 'mie': ['–reconocimiento', 'razonamiento'], 'to': ['–reconocimiento', 'respeto', 'victoria', 'torno', 'asuntos', 'toca', 'razonamiento', 'documentos', 'estos', 'conflicto', 'entonces', 'torno', '“promotores', 'conflicto', 'conflictos', 'conflictos', 'sectores'], 'ho': ['derechos', 'homosexual', 'Derechos'], 'pa': ['para', 'para', 'paz', 'comparación', 'países', 'para', 'paradigma', 'paradigmas', 'paradigma', 'para', 'ocupan', 'parecen'], 'xua': ['homosexual'], 'pe': ['respeto', 'personales', 'apela', 'superpone', '“superior”', '“superioridad', 'perdido', 'superior', 'perteneciente', 'perdido', 'pepekausa', 'pepekausa', 'pero', 'especialmente'], 'qui': ['equidad'], 'je': ['mujeres', 'ejemplo', 'ejemplo', 'jerarquías', 'ajeno', 'Ejecutivo', 'anteojeras', 'Ejecutivo'], 'ro': ['provocó', 'otros', 'poderosas', 'género”', 'otro', 'confrontación', 'desencuentros', 'otro', 'problema', '“nosotros”', '“otros”', '“progre”', '“aborteros”', '“promotores', '“otro”', 'protestas', 'pro', 'pero', '“otro”'], 'vo': ['provocó', 'colectivos', 'educativo', 'Ejecutivo', 'Ejecutivo'], 'rao': ['contraola'], 'que': ['que', 'Aunque', 'porque', '“enfoque', 'porque', 'que', 'justifique', 'porque', 'que', 'que', 'que', 'que', 'que', 'que', 'que', 'que', 'que'], 'he': ['hemos'], 'xi': ['Brexit'], 'ru': ['Trump', '“Trump', 'grupo', 'estructuras'], 'vi': ['victoria', 'civil', 'activismo', 'convivencia', 'división', 'vista', 'inamovilidad'], 'fe': ['referéndum', 'ofensiva'], 'du': ['referéndum', 'educativo', 'Educación'], 'bia': ['Colombia', 'Colombia'], 'Pe': ['Perú', 'Periodistas', 'Perú'], 'ri': ['polarización', 'esgrimen', 'atemorizan', 'escrituras', 'origen', 'polarización', '“superioridad', 'narices', 'valóricos'], 'za': ['polarización', 'atemorizan', 'politización', 'polarización', 'agudiza', 'Analizan'], 'so': ['sociedad', 'asociados', 'son', 'asociados', 'personales', 'religioso', 'desordenado', 'sobre', 'sociológicos', 'social', 'ingreso', 'social', 'social', '“nosotros”', '“son', '“son', 'social', 'sociedad', 'sociedad'], 'cie': ['sociedad', 'científico', 'científicos', 'perteneciente', 'Pareciera', 'sociedad', 'sociedad'], 'rio': ['Periodistas', '“superior”', '“superioridad', 'serio', 'superior'], 'di': ['Periodistas', 'directamente', 'disputa', 'paradigma', 'agudiza', 'paradigmas', 'disputa', 'perdido', 'división', 'perdido', 'paradigma'], 'pi': ['opinión”'], 'me': ['esgrimen', 'menor', 'directamente', 'elementales', 'documentos', 'antiestablishment', 'exclusivamente', 'especialmente'], 'su': ['sus', 'asuntos', 'su', 'superpone', 'presupone', '“superior”', '“superioridad', 'superior', 'insulta', 'surgen', 'sus'], 'cio': ['posiciones', 'motivaciones', 'posiciones', 'sociológicos'], 'ne': ['posiciones', 'eminencia', 'motivaciones', 'género”', 'pulsiones', 'quienes', 'posiciones', 'superpone', 'presupone', 'quienes', 'manera', 'ponerse', 'perteneciente', 'quienes', 'ponerse'], 'sa': ['prensa', 'poderosas', 'sagradas', 'pepekausa', 'empresa', 'asalta'], 'sia': ['iglesias'], 'Au': ['Aunque'], 'gu': ['algunos', 'agudiza'], 'mi': ['eminencia', 'mismo', 'administrar'], 'hi': ['chicha”', '¿Phillip', 'exhibiendo'], 'Bu': ['Butters'], 'Lo': ['Los', 'Lo'], 'ciu': ['ciudadano'], 'Se': ['Se', 'Se'], 'fie': ['defiende', 'defienden'], '“e': ['“enfoque'], 'fo': ['“enfoque'], '“i': ['“ideología”'], 'deo': ['“ideología”'], 'ía': ['“ideología”', 'jerarquías', 'economía'], 'pu': ['pulsiones', 'disputa', 'disputa'], 'sio': ['pulsiones'], 'quie': ['quienes', 'quienes', 'cualquiera', 'quienes'], 'Ca': ['Cada'], 'ju': ['justifique'], 'fi': ['justifique', 'científico', 'científicos', 'significa'], 'zo': ['razonamiento'], 'ya': ['ya'], 'sea': ['sea', 'sea'], 'gio': ['religioso'], 'tu': ['estructuras', 'estudios', 'escrituras', 'estatus'], 'dio': ['estudios'], 'vie': ['convierten'], 'cu': ['documentos', 'currículo', 'currículo', 'ocupan', 'Ejecutivo', 'Ejecutivo'], 'bio': ['intercambio'], 'cue': ['desencuentros', 'consecuencia'], 'gi': ['sociológicos'], 'vio': ['previos'], 'ge': ['origen', 'surgen'], 'cua': ['cuando', 'cualquiera', 'cuando'], 'Po': ['Por'], 'ce': ['hacen', 'entonces', 'hace', 'narices', 'desconocen', 'hacer', 'parecen'], 'bie': ['exhibiendo', 'gobierno', 'ambientales'], 'qu': ['jerarquías', 'qué'], 'lia': ['irreconciliable'], 'tua': ['situación'], '“u': ['“unos”'], '“o': ['“otros”', '“otro”', '“otro”'], 'lu': ['lugar', 'Klux', 'exclusivamente'], 'Ku': ['Ku'], 'bu': ['burlesca'], 'Tie': ['Tierra'], 'sie': ['siente'], 'tie': ['antiestablishment'], 'die': ['diestra'], 'nie': ['siniestra'], '“a': ['“aborteros”'], 'bo': ['“aborteros”'], 'go': ['gobierno', 'gobernar'], 'kau': ['pepekausa'], 'Pa': ['Pareciera'], 'teo': ['anteojeras'], 'ba': ['bandos'], 'sua': ['consensuar'], 'Ju': ['Justicia'], 'De': ['Derechos'], 'Hu': ['Humanos'], 'bi': ['también']})\n"
     ]
    }
   ],
   "source": [
    "print(cv_index)"
   ]
  },
  {
   "cell_type": "code",
   "execution_count": 88,
   "metadata": {
    "collapsed": false,
    "deletable": true,
    "editable": true
   },
   "outputs": [
    {
     "data": {
      "text/plain": [
       "['sus',\n",
       " 'asuntos',\n",
       " 'su',\n",
       " 'superpone',\n",
       " 'presupone',\n",
       " '“superior”',\n",
       " '“superioridad',\n",
       " 'superior',\n",
       " 'insulta',\n",
       " 'surgen',\n",
       " 'sus']"
      ]
     },
     "execution_count": 88,
     "metadata": {},
     "output_type": "execute_result"
    }
   ],
   "source": [
    "cv_index['su']"
   ]
  },
  {
   "cell_type": "code",
   "execution_count": 89,
   "metadata": {
    "collapsed": false,
    "deletable": true,
    "editable": true
   },
   "outputs": [
    {
     "data": {
      "text/plain": [
       "('La', 'La')"
      ]
     },
     "execution_count": 89,
     "metadata": {},
     "output_type": "execute_result"
    }
   ],
   "source": [
    "cv_word_pairs[0]"
   ]
  },
  {
   "cell_type": "code",
   "execution_count": 90,
   "metadata": {
    "collapsed": false,
    "deletable": true,
    "editable": true
   },
   "outputs": [
    {
     "data": {
      "text/plain": [
       "('ma', 'marcha')"
      ]
     },
     "execution_count": 90,
     "metadata": {},
     "output_type": "execute_result"
    }
   ],
   "source": [
    "cv_word_pairs[1]"
   ]
  },
  {
   "cell_type": "code",
   "execution_count": 91,
   "metadata": {
    "collapsed": false,
    "deletable": true,
    "editable": true
   },
   "outputs": [
    {
     "data": {
      "text/plain": [
       "['iniciativas',\n",
       " 'apreciado',\n",
       " 'asociados',\n",
       " 'eminencia',\n",
       " 'asociados',\n",
       " 'social',\n",
       " 'social',\n",
       " 'consecuencia',\n",
       " 'convivencia',\n",
       " 'social',\n",
       " 'social',\n",
       " 'especialmente',\n",
       " 'Justicia']"
      ]
     },
     "execution_count": 91,
     "metadata": {},
     "output_type": "execute_result"
    }
   ],
   "source": [
    "cv_index['cia']"
   ]
  },
  {
   "cell_type": "markdown",
   "metadata": {
    "deletable": true,
    "editable": true
   },
   "source": [
    "## Finding Word Stems"
   ]
  },
  {
   "cell_type": "code",
   "execution_count": 92,
   "metadata": {
    "collapsed": true,
    "deletable": true,
    "editable": true
   },
   "outputs": [],
   "source": [
    "def stem(word):\n",
    "    for suffix in ['ing', 'ly', 'ed', 'ious', 'ies', 'ive', 'es', 's', 'ment']:\n",
    "        if word.endswith(suffix):\n",
    "            if word.endswith(suffix):\n",
    "                return word"
   ]
  },
  {
   "cell_type": "code",
   "execution_count": 93,
   "metadata": {
    "collapsed": false,
    "deletable": true,
    "editable": true
   },
   "outputs": [
    {
     "data": {
      "text/plain": [
       "['ing']"
      ]
     },
     "execution_count": 93,
     "metadata": {},
     "output_type": "execute_result"
    }
   ],
   "source": [
    "re.findall(r'^.*(ing|ly|ed|ious|ies|ive|es|s|ment)$', 'processing')"
   ]
  },
  {
   "cell_type": "code",
   "execution_count": 94,
   "metadata": {
    "collapsed": false,
    "deletable": true,
    "editable": true
   },
   "outputs": [
    {
     "data": {
      "text/plain": [
       "['processing']"
      ]
     },
     "execution_count": 94,
     "metadata": {},
     "output_type": "execute_result"
    }
   ],
   "source": [
    "re.findall(r'^.*(?:ing|ly|ed|ious|ies|ive|es|s|ment)$', 'processing')"
   ]
  },
  {
   "cell_type": "code",
   "execution_count": 95,
   "metadata": {
    "collapsed": false,
    "deletable": true,
    "editable": true
   },
   "outputs": [
    {
     "data": {
      "text/plain": [
       "[('process', 'ing')]"
      ]
     },
     "execution_count": 95,
     "metadata": {},
     "output_type": "execute_result"
    }
   ],
   "source": [
    "re.findall(r'^(.*)(ing|ly|ed|ious|ies|ive|es|s|ment)$', 'processing')"
   ]
  },
  {
   "cell_type": "code",
   "execution_count": 96,
   "metadata": {
    "collapsed": false,
    "deletable": true,
    "editable": true
   },
   "outputs": [
    {
     "data": {
      "text/plain": [
       "[('processe', 's')]"
      ]
     },
     "execution_count": 96,
     "metadata": {},
     "output_type": "execute_result"
    }
   ],
   "source": [
    "re.findall(r'^(.*)(ing|ly|ed|ious|ies|ive|es|s|ment)$', 'processes')"
   ]
  },
  {
   "cell_type": "code",
   "execution_count": 97,
   "metadata": {
    "collapsed": false,
    "deletable": true,
    "editable": true
   },
   "outputs": [
    {
     "data": {
      "text/plain": [
       "[('process', 'es')]"
      ]
     },
     "execution_count": 97,
     "metadata": {},
     "output_type": "execute_result"
    }
   ],
   "source": [
    "re.findall(r'^(.*?)(ing|ly|ed|ious|ies|ive|es|s|ment)$', 'processes')"
   ]
  },
  {
   "cell_type": "code",
   "execution_count": 98,
   "metadata": {
    "collapsed": false,
    "deletable": true,
    "editable": true
   },
   "outputs": [
    {
     "data": {
      "text/plain": [
       "[('language', '')]"
      ]
     },
     "execution_count": 98,
     "metadata": {},
     "output_type": "execute_result"
    }
   ],
   "source": [
    "re.findall(r'^(.*?)(ing|ly|ed|ious|ies|ive|es|s|ment)?$', 'language')"
   ]
  },
  {
   "cell_type": "code",
   "execution_count": 99,
   "metadata": {
    "collapsed": true,
    "deletable": true,
    "editable": true
   },
   "outputs": [],
   "source": [
    "def stem(word):\n",
    "    regexp = r'^(.*?)(ing|ly|ed|ious|ies|ive|es|s|ment)?$'\n",
    "    stem, suffix = re.findall(regexp, word)[0]\n",
    "    return stem"
   ]
  },
  {
   "cell_type": "code",
   "execution_count": 100,
   "metadata": {
    "collapsed": true,
    "deletable": true,
    "editable": true
   },
   "outputs": [],
   "source": [
    "raw = \"\"\"DENNIS: Listen, strange women lying in ponds distributing swords\n",
    "is no basis for a system of government.  Supreme executive power derives from\n",
    "a mandate from the masses, not from some farcical aquatic ceremony.\"\"\""
   ]
  },
  {
   "cell_type": "code",
   "execution_count": 101,
   "metadata": {
    "collapsed": true,
    "deletable": true,
    "editable": true
   },
   "outputs": [],
   "source": [
    "tokens = word_tokenize(raw)"
   ]
  },
  {
   "cell_type": "code",
   "execution_count": 103,
   "metadata": {
    "collapsed": false,
    "deletable": true,
    "editable": true
   },
   "outputs": [
    {
     "name": "stdout",
     "output_type": "stream",
     "text": [
      "['DENNIS', ':', 'Listen', ',', 'strange', 'women', 'ly', 'in', 'pond', 'distribut', 'sword', 'i', 'no', 'basi', 'for', 'a', 'system', 'of', 'govern', '.', 'Supreme', 'execut', 'power', 'deriv', 'from', 'a', 'mandate', 'from', 'the', 'mass', ',', 'not', 'from', 'some', 'farcical', 'aquatic', 'ceremony', '.']\n"
     ]
    }
   ],
   "source": [
    "stems = [stem(t) for t in tokens]\n",
    "print(stems)"
   ]
  },
  {
   "cell_type": "markdown",
   "metadata": {
    "deletable": true,
    "editable": true
   },
   "source": [
    "## Searching Tokenized Text"
   ]
  },
  {
   "cell_type": "code",
   "execution_count": 104,
   "metadata": {
    "collapsed": false,
    "deletable": true,
    "editable": true
   },
   "outputs": [
    {
     "name": "stdout",
     "output_type": "stream",
     "text": [
      "monied; nervous; dangerous; white; white; white; pious; queer; good;\n",
      "mature; white; Cape; great; wise; wise; butterless; white; fiendish;\n",
      "pale; furious; better; certain; complete; dismasted; younger; brave;\n",
      "brave; brave; brave\n"
     ]
    }
   ],
   "source": [
    "from nltk.corpus import gutenberg, nps_chat\n",
    "moby = nltk.Text(gutenberg.words('melville-moby_dick.txt'))\n",
    "moby.findall(r\"<a> (<.*>) <man>\")"
   ]
  },
  {
   "cell_type": "code",
   "execution_count": 117,
   "metadata": {
    "collapsed": false,
    "deletable": true,
    "editable": true
   },
   "outputs": [
    {
     "name": "stdout",
     "output_type": "stream",
     "text": [
      "you rule bro; telling you bro; u twizted bro\n"
     ]
    }
   ],
   "source": [
    "chat = nltk.Text(nps_chat.words())\n",
    "# three-word phrases ending with the word bro\n",
    "chat.findall(r\"<.*> <.*> <bro>\")"
   ]
  },
  {
   "cell_type": "code",
   "execution_count": 116,
   "metadata": {
    "collapsed": false,
    "deletable": true,
    "editable": true
   },
   "outputs": [
    {
     "name": "stdout",
     "output_type": "stream",
     "text": [
      "lol lol lol; lmao lol lol; lol lol lol; la la la la la; la la la; la\n",
      "la la; lovely lol lol love; lol lol lol.; la la la; la la la\n"
     ]
    }
   ],
   "source": [
    "chat.findall(r\"<l.*>{3,}\")\n",
    "# sequences of three or more words starting with the letter l "
   ]
  },
  {
   "cell_type": "code",
   "execution_count": 135,
   "metadata": {
    "collapsed": false,
    "deletable": true,
    "editable": true
   },
   "outputs": [
    {
     "name": "stdout",
     "output_type": "stream",
     "text": [
      "unit\n",
      "unic\n",
      "unsystem\n",
      "system\n",
      "singer\n",
      "ingeneer\n",
      "{writing}\n"
     ]
    },
    {
     "data": {
      "text/plain": [
       "[None, None, None, None, None, None, None]"
      ]
     },
     "execution_count": 135,
     "metadata": {},
     "output_type": "execute_result"
    }
   ],
   "source": [
    "raw = \"unit unic unsystem system singer ingeneer writing\"\n",
    "tokens = word_tokenize(raw)\n",
    "\n",
    "def markw(string):\n",
    "    nltk.re_show(r'^(.*)(ing|ly|ed|ious|ies|ive|es|s|ment)$', string)\n",
    "\n",
    "[markw(w) for w in tokens]"
   ]
  },
  {
   "cell_type": "code",
   "execution_count": null,
   "metadata": {
    "collapsed": false,
    "deletable": true,
    "editable": true
   },
   "outputs": [],
   "source": [
    "'''\n",
    "import matplotlib\n",
    "matplotlib.use(\"TkAgg\")\n",
    "import nltk\n",
    "nltk.app.nemo()\n",
    "'''"
   ]
  },
  {
   "cell_type": "code",
   "execution_count": 2,
   "metadata": {
    "collapsed": false,
    "deletable": true,
    "editable": true
   },
   "outputs": [
    {
     "name": "stdout",
     "output_type": "stream",
     "text": [
      "speed and other activities; water and other liquids; tomb and other\n",
      "landmarks; Statues and other monuments; pearls and other jewels;\n",
      "charts and other items; roads and other features; figures and other\n",
      "objects; military and other areas; demands and other factors;\n",
      "abstracts and other compilations; iron and other metals\n"
     ]
    }
   ],
   "source": [
    "import nltk\n",
    "from nltk.corpus import brown\n",
    "hobbies_learned = nltk.Text(brown.words(categories=['hobbies', 'learned']))\n",
    "hobbies_learned.findall(r\"<\\w*> <and> <other> <\\w*s>\")\n",
    "#discover hypernyms"
   ]
  },
  {
   "cell_type": "code",
   "execution_count": 4,
   "metadata": {
    "collapsed": false
   },
   "outputs": [
    {
     "name": "stdout",
     "output_type": "stream",
     "text": [
      "as accurately as possible; as well as the; as faithfully as possible;\n",
      "as much as what; as neat as a; as simple as you; as well as other; as\n",
      "well as other; as involved as determining; as well as other; as\n",
      "important as another; as accurately as possible; as accurate as any;\n",
      "as much as any; as different as a; as Orphic as that; as coppery as\n",
      "Delawares; as good as another; as large as small; as well as ease; as\n",
      "well as their; as well as possible; as straight as possible; as well\n",
      "as nailed; as smoothly as the; as soon as a; as well as injuries; as\n",
      "well as many; as well as reason; as well as in; as well as of; as well\n",
      "as a; as well as summer; as well as providing; as important as\n",
      "cooling; as evenly as it; as much as shading; as well as some; as well\n",
      "as subsoil; as high as possible; as well as many; as general as\n",
      "electrical; as long as the; as well as the; as much as was; as well as\n",
      "set; as well as by; as high as 15; as well as aid; as much as\n",
      "possible; as well as personalities; as low as a; as well as the; as\n",
      "much as glass; as popular as renting; as expensive as most; as well as\n",
      "relative; as well as by; as well as the; as far as possible; as far as\n",
      "radiation; as well as theoretical; as well as nuclear; as small as\n",
      "possible; as well as soap; as effective as the; as much as\n",
      "approximately; as well as information; as little as one; as much as\n",
      "an; as low as Af; as long as the; as far as possible; as well as\n",
      "their; as well as Hand; as well as all; as well as fractionation; as\n",
      "potent as the; as well as fever; as large as 3; as well as varying; as\n",
      "well as the; as long as 2; as far as emotional; as well as the; as\n",
      "well as regarding; as well as enthusiasm; as well as by; as well as\n",
      "her; as well as a; as old as social; as well as the; as well as the;\n",
      "as well as in; as much as they; as much as possible; as well as the;\n",
      "as well as some; as simple as one; as well as the; as well as in; as\n",
      "definable as possible; as long as they; as well as their; as well as\n",
      "forecasting; as soon as possible; as inevitable as anything; as well\n",
      "as for; as well as for; as nebulous as the; as awkward as the; as well\n",
      "as the; as well as by; as well as those; as well as the; as well as\n",
      "an; as well as with; as well as the; as well as moral; as much as\n",
      "their; as well as that; as likely as not; as well as upon; as well as\n",
      "on; as well as upon; as long as all; as far as one; as long as the; as\n",
      "empty as the; as well as the; as well as the; as soon as they; as well\n",
      "as office; as speedily as possible; as well as of; as well as start;\n",
      "as well as behind; as much as for; as effectively as they; as\n",
      "important as it; as nearly as feasible; as well as form; as well as\n",
      "aesthetic; as well as ethical; as well as Impressionism; as well as\n",
      "the; as broad as the; as much as he; as arresting as a; as odd as the;\n",
      "as well as the; as soon as possible; as long as it; as impassive as\n",
      "Persian; as long as those; as importantly as his; as well as\n",
      "providing; as well as the; as well as vertically; as well as new; as\n",
      "well as certain; as well as the; as close as possible; as far as\n",
      "obtainable; as well as the; as important as the; as long as the; as\n",
      "satisfactory as those\n"
     ]
    }
   ],
   "source": [
    "from nltk.corpus import brown\n",
    "hobbies_learned = nltk.Text(brown.words(categories=['hobbies', 'learned']))\n",
    "hobbies_learned.findall(r\"<as> <\\w*> <as> <\\w*>\")"
   ]
  },
  {
   "cell_type": "code",
   "execution_count": null,
   "metadata": {
    "collapsed": true
   },
   "outputs": [],
   "source": []
  }
 ],
 "metadata": {
  "kernelspec": {
   "display_name": "Python 3",
   "language": "python",
   "name": "python3"
  },
  "language_info": {
   "codemirror_mode": {
    "name": "ipython",
    "version": 3
   },
   "file_extension": ".py",
   "mimetype": "text/x-python",
   "name": "python",
   "nbconvert_exporter": "python",
   "pygments_lexer": "ipython3",
   "version": "3.6.0"
  }
 },
 "nbformat": 4,
 "nbformat_minor": 2
}
