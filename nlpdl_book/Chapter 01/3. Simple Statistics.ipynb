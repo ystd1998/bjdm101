{
 "cells": [
  {
   "cell_type": "markdown",
   "metadata": {
    "deletable": true,
    "editable": true
   },
   "source": [
    "## Intro"
   ]
  },
  {
   "cell_type": "code",
   "execution_count": 2,
   "metadata": {
    "collapsed": true,
    "deletable": true,
    "editable": true
   },
   "outputs": [],
   "source": [
    "import nltk"
   ]
  },
  {
   "cell_type": "code",
   "execution_count": 3,
   "metadata": {
    "collapsed": true,
    "deletable": true,
    "editable": true
   },
   "outputs": [],
   "source": [
    "nlp_text = ['learning', 'all', 'these', 'things', 'is', 'useful', ',', 'Keep', 'learning']"
   ]
  },
  {
   "cell_type": "code",
   "execution_count": 4,
   "metadata": {
    "collapsed": false,
    "deletable": true,
    "editable": true
   },
   "outputs": [
    {
     "name": "stdout",
     "output_type": "stream",
     "text": [
      "{'Keep', ',', 'is', 'learning', 'things', 'all', 'useful', 'these'}\n"
     ]
    }
   ],
   "source": [
    "tokens = set(nlp_text)\n",
    "print(tokens)"
   ]
  },
  {
   "cell_type": "code",
   "execution_count": 5,
   "metadata": {
    "collapsed": false,
    "deletable": true,
    "editable": true
   },
   "outputs": [
    {
     "data": {
      "text/plain": [
       "set"
      ]
     },
     "execution_count": 5,
     "metadata": {},
     "output_type": "execute_result"
    }
   ],
   "source": [
    "type(tokens)"
   ]
  },
  {
   "cell_type": "code",
   "execution_count": 6,
   "metadata": {
    "collapsed": false,
    "deletable": true,
    "editable": true
   },
   "outputs": [],
   "source": [
    "sorted_tokens = sorted(tokens)"
   ]
  },
  {
   "cell_type": "code",
   "execution_count": 7,
   "metadata": {
    "collapsed": false,
    "deletable": true,
    "editable": true
   },
   "outputs": [
    {
     "ename": "TypeError",
     "evalue": "'set' object is not subscriptable",
     "output_type": "error",
     "traceback": [
      "\u001b[0;31m---------------------------------------------------------------------------\u001b[0m",
      "\u001b[0;31mTypeError\u001b[0m                                 Traceback (most recent call last)",
      "\u001b[0;32m<ipython-input-7-db91d3059d2f>\u001b[0m in \u001b[0;36m<module>\u001b[0;34m()\u001b[0m\n\u001b[0;32m----> 1\u001b[0;31m \u001b[0mtokens\u001b[0m\u001b[0;34m[\u001b[0m\u001b[0;36m2\u001b[0m\u001b[0;34m:\u001b[0m\u001b[0;34m]\u001b[0m\u001b[0;34m\u001b[0m\u001b[0m\n\u001b[0m",
      "\u001b[0;31mTypeError\u001b[0m: 'set' object is not subscriptable"
     ]
    }
   ],
   "source": [
    "tokens[2:]"
   ]
  },
  {
   "cell_type": "code",
   "execution_count": null,
   "metadata": {
    "collapsed": false,
    "deletable": true,
    "editable": true
   },
   "outputs": [],
   "source": [
    "type(nlp_text)"
   ]
  },
  {
   "cell_type": "code",
   "execution_count": null,
   "metadata": {
    "collapsed": false,
    "deletable": true,
    "editable": true
   },
   "outputs": [],
   "source": [
    "fdist['learning']"
   ]
  },
  {
   "cell_type": "markdown",
   "metadata": {
    "deletable": true,
    "editable": true
   },
   "source": [
    "## 3.1   Frequency Distributions"
   ]
  },
  {
   "cell_type": "code",
   "execution_count": null,
   "metadata": {
    "collapsed": false,
    "deletable": true,
    "editable": true
   },
   "outputs": [],
   "source": [
    "from nltk.probability import FreqDist\n",
    "fdist = FreqDist(nlp_text)\n",
    "fdist.most_common(3)"
   ]
  },
  {
   "cell_type": "code",
   "execution_count": null,
   "metadata": {
    "collapsed": false,
    "deletable": true,
    "editable": true
   },
   "outputs": [],
   "source": [
    "type(fdist)"
   ]
  },
  {
   "cell_type": "code",
   "execution_count": null,
   "metadata": {
    "collapsed": false,
    "deletable": true,
    "editable": true
   },
   "outputs": [],
   "source": [
    "fdist['learning']"
   ]
  },
  {
   "cell_type": "code",
   "execution_count": null,
   "metadata": {
    "collapsed": false,
    "deletable": true,
    "editable": true
   },
   "outputs": [],
   "source": [
    "fdist.index('learning')"
   ]
  },
  {
   "cell_type": "markdown",
   "metadata": {
    "collapsed": true,
    "deletable": true,
    "editable": true
   },
   "source": [
    "## 3.2 Fine-grained Selection of Words"
   ]
  },
  {
   "cell_type": "code",
   "execution_count": 11,
   "metadata": {
    "collapsed": false,
    "deletable": true,
    "editable": true
   },
   "outputs": [],
   "source": [
    "f = open('text.txt')\n",
    "raw = f.read()\n",
    "tokens = nltk.word_tokenize(raw)"
   ]
  },
  {
   "cell_type": "code",
   "execution_count": 12,
   "metadata": {
    "collapsed": false,
    "deletable": true,
    "editable": true
   },
   "outputs": [],
   "source": [
    "# V = tokens\n",
    "V = set(tokens)\n",
    "long_words = [w for w in V if len(w) > 15]"
   ]
  },
  {
   "cell_type": "code",
   "execution_count": 13,
   "metadata": {
    "collapsed": false,
    "deletable": true,
    "editable": true
   },
   "outputs": [
    {
     "data": {
      "text/plain": [
       "['ConMisHijosNoTeMetas', 'antiestablishment']"
      ]
     },
     "execution_count": 13,
     "metadata": {},
     "output_type": "execute_result"
    }
   ],
   "source": [
    "sorted(long_words)"
   ]
  },
  {
   "cell_type": "code",
   "execution_count": 14,
   "metadata": {
    "collapsed": false,
    "deletable": true,
    "editable": true
   },
   "outputs": [
    {
     "data": {
      "text/plain": [
       "['nivel', 'porque', 'quienes', 'social', 'sociedad']"
      ]
     },
     "execution_count": 14,
     "metadata": {},
     "output_type": "execute_result"
    }
   ],
   "source": [
    "from nltk import FreqDist\n",
    "fdist = FreqDist(tokens)\n",
    "sorted(w for w in V if len(w) > 4 and fdist[w] > 2)"
   ]
  },
  {
   "cell_type": "markdown",
   "metadata": {
    "deletable": true,
    "editable": true
   },
   "source": [
    "## 3.3 Collocations and Bigrams"
   ]
  },
  {
   "cell_type": "code",
   "execution_count": 15,
   "metadata": {
    "collapsed": false,
    "deletable": true,
    "editable": true
   },
   "outputs": [
    {
     "name": "stdout",
     "output_type": "stream",
     "text": [
      "paradigma que\n"
     ]
    }
   ],
   "source": [
    "from nltk.collocations import *\n",
    "\n",
    "def get_full_text(text):\n",
    "  every_word = [w for w in text]\n",
    "  full_text = nltk.Text(every_word)\n",
    "  return full_text\n",
    "\n",
    "full_text = get_full_text(tokens)\n",
    "\n",
    "full_text.collocations()"
   ]
  },
  {
   "cell_type": "code",
   "execution_count": 16,
   "metadata": {
    "collapsed": false,
    "deletable": true,
    "editable": true
   },
   "outputs": [
    {
     "name": "stdout",
     "output_type": "stream",
     "text": [
      "Displaying 2 of 2 matches:\n",
      "a . Cada grupo enfrentado apela al paradigma que justifique su razonamiento , y\n",
      "sta es que , cualquiera que sea el paradigma que endose , el “otro” es Usted mi\n"
     ]
    }
   ],
   "source": [
    "full_text.concordance('paradigma')"
   ]
  },
  {
   "cell_type": "markdown",
   "metadata": {
    "collapsed": true,
    "deletable": true,
    "editable": true
   },
   "source": [
    "## 3.4 Counting other things"
   ]
  },
  {
   "cell_type": "code",
   "execution_count": 23,
   "metadata": {
    "collapsed": false
   },
   "outputs": [
    {
     "data": {
      "text/plain": [
       "[2,\n",
       " 6,\n",
       " 1,\n",
       " 20,\n",
       " 2,\n",
       " 4,\n",
       " 3,\n",
       " 2,\n",
       " 3,\n",
       " 3,\n",
       " 11,\n",
       " 10,\n",
       " 13,\n",
       " 7,\n",
       " 1,\n",
       " 3,\n",
       " 11,\n",
       " 9,\n",
       " 2,\n",
       " 3,\n",
       " 7,\n",
       " 4,\n",
       " 1,\n",
       " 2,\n",
       " 3,\n",
       " 11,\n",
       " 9,\n",
       " 1,\n",
       " 5,\n",
       " 7,\n",
       " 15,\n",
       " 2,\n",
       " 8,\n",
       " 4,\n",
       " 2,\n",
       " 9,\n",
       " 10,\n",
       " 1,\n",
       " 7,\n",
       " 1,\n",
       " 9,\n",
       " 2,\n",
       " 7,\n",
       " 4,\n",
       " 7,\n",
       " 1,\n",
       " 5,\n",
       " 7,\n",
       " 3,\n",
       " 9,\n",
       " 12,\n",
       " 3,\n",
       " 5,\n",
       " 9,\n",
       " 2,\n",
       " 3,\n",
       " 5,\n",
       " 1,\n",
       " 6,\n",
       " 1,\n",
       " 5,\n",
       " 1,\n",
       " 8,\n",
       " 3,\n",
       " 2,\n",
       " 2,\n",
       " 2,\n",
       " 10,\n",
       " 3,\n",
       " 2,\n",
       " 3,\n",
       " 2,\n",
       " 8,\n",
       " 1,\n",
       " 1,\n",
       " 2,\n",
       " 2,\n",
       " 4,\n",
       " 1,\n",
       " 2,\n",
       " 12,\n",
       " 2,\n",
       " 5,\n",
       " 1,\n",
       " 7,\n",
       " 1,\n",
       " 3,\n",
       " 1,\n",
       " 2,\n",
       " 7,\n",
       " 2,\n",
       " 2,\n",
       " 5,\n",
       " 2,\n",
       " 2,\n",
       " 8,\n",
       " 5,\n",
       " 1,\n",
       " 11,\n",
       " 1,\n",
       " 8,\n",
       " 2,\n",
       " 8,\n",
       " 8,\n",
       " 3,\n",
       " 10,\n",
       " 2,\n",
       " 2,\n",
       " 6,\n",
       " 1,\n",
       " 8,\n",
       " 11,\n",
       " 1,\n",
       " 10,\n",
       " 9,\n",
       " 1,\n",
       " 3,\n",
       " 2,\n",
       " 3,\n",
       " 6,\n",
       " 1,\n",
       " 6,\n",
       " 7,\n",
       " 10,\n",
       " 3,\n",
       " 2,\n",
       " 9,\n",
       " 2,\n",
       " 2,\n",
       " 6,\n",
       " 7,\n",
       " 1,\n",
       " 8,\n",
       " 7,\n",
       " 1,\n",
       " 1,\n",
       " 1,\n",
       " 2,\n",
       " 5,\n",
       " 2,\n",
       " 12,\n",
       " 2,\n",
       " 2,\n",
       " 4,\n",
       " 2,\n",
       " 5,\n",
       " 2,\n",
       " 11,\n",
       " 3,\n",
       " 5,\n",
       " 6,\n",
       " 1,\n",
       " 8,\n",
       " 1,\n",
       " 3,\n",
       " 7,\n",
       " 1,\n",
       " 1,\n",
       " 3,\n",
       " 7,\n",
       " 7,\n",
       " 3,\n",
       " 12,\n",
       " 9,\n",
       " 4,\n",
       " 2,\n",
       " 9,\n",
       " 9,\n",
       " 6,\n",
       " 5,\n",
       " 12,\n",
       " 9,\n",
       " 1,\n",
       " 3,\n",
       " 11,\n",
       " 10,\n",
       " 1,\n",
       " 2,\n",
       " 8,\n",
       " 2,\n",
       " 8,\n",
       " 2,\n",
       " 7,\n",
       " 1,\n",
       " 2,\n",
       " 2,\n",
       " 5,\n",
       " 4,\n",
       " 11,\n",
       " 6,\n",
       " 4,\n",
       " 3,\n",
       " 9,\n",
       " 3,\n",
       " 11,\n",
       " 2,\n",
       " 7,\n",
       " 2,\n",
       " 8,\n",
       " 2,\n",
       " 3,\n",
       " 1,\n",
       " 4,\n",
       " 4,\n",
       " 2,\n",
       " 2,\n",
       " 7,\n",
       " 1,\n",
       " 4,\n",
       " 5,\n",
       " 10,\n",
       " 5,\n",
       " 2,\n",
       " 9,\n",
       " 3,\n",
       " 10,\n",
       " 2,\n",
       " 12,\n",
       " 1,\n",
       " 2,\n",
       " 3,\n",
       " 10,\n",
       " 1,\n",
       " 9,\n",
       " 1,\n",
       " 2,\n",
       " 2,\n",
       " 13,\n",
       " 7,\n",
       " 2,\n",
       " 5,\n",
       " 11,\n",
       " 7,\n",
       " 1,\n",
       " 8,\n",
       " 11,\n",
       " 1,\n",
       " 8,\n",
       " 10,\n",
       " 2,\n",
       " 10,\n",
       " 2,\n",
       " 10,\n",
       " 2,\n",
       " 9,\n",
       " 1,\n",
       " 2,\n",
       " 11,\n",
       " 11,\n",
       " 2,\n",
       " 10,\n",
       " 2,\n",
       " 9,\n",
       " 5,\n",
       " 13,\n",
       " 12,\n",
       " 7,\n",
       " 1,\n",
       " 2,\n",
       " 5,\n",
       " 1,\n",
       " 6,\n",
       " 6,\n",
       " 1,\n",
       " 1,\n",
       " 3,\n",
       " 1,\n",
       " 2,\n",
       " 12,\n",
       " 2,\n",
       " 7,\n",
       " 2,\n",
       " 7,\n",
       " 6,\n",
       " 3,\n",
       " 2,\n",
       " 5,\n",
       " 10,\n",
       " 2,\n",
       " 9,\n",
       " 10,\n",
       " 1,\n",
       " 4,\n",
       " 1,\n",
       " 3,\n",
       " 7,\n",
       " 1,\n",
       " 7,\n",
       " 9,\n",
       " 2,\n",
       " 13,\n",
       " 2,\n",
       " 2,\n",
       " 6,\n",
       " 2,\n",
       " 5,\n",
       " 10,\n",
       " 3,\n",
       " 10,\n",
       " 2,\n",
       " 7,\n",
       " 1,\n",
       " 7,\n",
       " 6,\n",
       " 1,\n",
       " 5,\n",
       " 9,\n",
       " 1,\n",
       " 3,\n",
       " 1,\n",
       " 4,\n",
       " 12,\n",
       " 1,\n",
       " 2,\n",
       " 9,\n",
       " 7,\n",
       " 2,\n",
       " 6,\n",
       " 15,\n",
       " 1,\n",
       " 2,\n",
       " 9,\n",
       " 2,\n",
       " 5,\n",
       " 6,\n",
       " 8,\n",
       " 2,\n",
       " 7,\n",
       " 4,\n",
       " 3,\n",
       " 7,\n",
       " 2,\n",
       " 5,\n",
       " 2,\n",
       " 9,\n",
       " 7,\n",
       " 1,\n",
       " 4,\n",
       " 4,\n",
       " 2,\n",
       " 5,\n",
       " 8,\n",
       " 2,\n",
       " 11,\n",
       " 6,\n",
       " 1,\n",
       " 2,\n",
       " 2,\n",
       " 7,\n",
       " 2,\n",
       " 7,\n",
       " 2,\n",
       " 9,\n",
       " 1,\n",
       " 10,\n",
       " 1,\n",
       " 1,\n",
       " 11,\n",
       " 2,\n",
       " 8,\n",
       " 5,\n",
       " 6,\n",
       " 1,\n",
       " 7,\n",
       " 1,\n",
       " 2,\n",
       " 8,\n",
       " 3,\n",
       " 7,\n",
       " 7,\n",
       " 2,\n",
       " 2,\n",
       " 5,\n",
       " 5,\n",
       " 2,\n",
       " 4,\n",
       " 5,\n",
       " 3,\n",
       " 8,\n",
       " 8,\n",
       " 1,\n",
       " 4,\n",
       " 11,\n",
       " 1,\n",
       " 1,\n",
       " 8,\n",
       " 1,\n",
       " 4,\n",
       " 2,\n",
       " 11,\n",
       " 3,\n",
       " 2,\n",
       " 4,\n",
       " 5,\n",
       " 1,\n",
       " 1,\n",
       " 8,\n",
       " 1,\n",
       " 3,\n",
       " 6,\n",
       " 2,\n",
       " 6,\n",
       " 1,\n",
       " 1,\n",
       " 2,\n",
       " 10,\n",
       " 2,\n",
       " 6,\n",
       " 13,\n",
       " 2,\n",
       " 17,\n",
       " 1,\n",
       " 3,\n",
       " 3,\n",
       " 7,\n",
       " 1,\n",
       " 7,\n",
       " 1,\n",
       " 9,\n",
       " 1,\n",
       " 11,\n",
       " 1,\n",
       " 11,\n",
       " 3,\n",
       " 5,\n",
       " 4,\n",
       " 1,\n",
       " 1,\n",
       " 2,\n",
       " 3,\n",
       " 2,\n",
       " 2,\n",
       " 7,\n",
       " 2,\n",
       " 5,\n",
       " 2,\n",
       " 3,\n",
       " 1,\n",
       " 10,\n",
       " 3,\n",
       " 3,\n",
       " 2,\n",
       " 9,\n",
       " 3,\n",
       " 6,\n",
       " 1,\n",
       " 2,\n",
       " 6,\n",
       " 2,\n",
       " 5,\n",
       " 5,\n",
       " 1,\n",
       " 4,\n",
       " 2,\n",
       " 2,\n",
       " 4,\n",
       " 2,\n",
       " 9,\n",
       " 6,\n",
       " 3,\n",
       " 7,\n",
       " 2,\n",
       " 3,\n",
       " 7,\n",
       " 3,\n",
       " 8,\n",
       " 9,\n",
       " 1,\n",
       " 7,\n",
       " 2,\n",
       " 9,\n",
       " 8,\n",
       " 1,\n",
       " 9,\n",
       " 3,\n",
       " 4,\n",
       " 7,\n",
       " 6,\n",
       " 2,\n",
       " 9,\n",
       " 1,\n",
       " 8,\n",
       " 9,\n",
       " 14,\n",
       " 11,\n",
       " 2,\n",
       " 8,\n",
       " 1,\n",
       " 10,\n",
       " 3,\n",
       " 5,\n",
       " 6,\n",
       " 6,\n",
       " 10,\n",
       " 2,\n",
       " 2,\n",
       " 8,\n",
       " 1,\n",
       " 8,\n",
       " 3,\n",
       " 9,\n",
       " 11,\n",
       " 5,\n",
       " 3,\n",
       " 10,\n",
       " 3,\n",
       " 7,\n",
       " 1,\n",
       " 4,\n",
       " 3,\n",
       " 6,\n",
       " 2,\n",
       " 12,\n",
       " 4,\n",
       " 10,\n",
       " 9,\n",
       " 1,\n",
       " 4,\n",
       " 5,\n",
       " 1,\n",
       " 2,\n",
       " 9,\n",
       " 6,\n",
       " 4,\n",
       " 7,\n",
       " 3,\n",
       " 6,\n",
       " 2,\n",
       " 3,\n",
       " 6,\n",
       " 1,\n",
       " 10,\n",
       " 9,\n",
       " 8,\n",
       " 1,\n",
       " 13,\n",
       " 2,\n",
       " 3,\n",
       " 8,\n",
       " 9,\n",
       " 1,\n",
       " 1,\n",
       " 8,\n",
       " 1,\n",
       " 8,\n",
       " 7,\n",
       " 1,\n",
       " 5,\n",
       " 7,\n",
       " 7,\n",
       " 3,\n",
       " 2,\n",
       " 6,\n",
       " 2,\n",
       " 3,\n",
       " 8,\n",
       " 3,\n",
       " 2,\n",
       " 10,\n",
       " 1]"
      ]
     },
     "execution_count": 23,
     "metadata": {},
     "output_type": "execute_result"
    }
   ],
   "source": [
    "[len(w) for w in full_text]"
   ]
  },
  {
   "cell_type": "code",
   "execution_count": 24,
   "metadata": {
    "collapsed": false
   },
   "outputs": [
    {
     "name": "stdout",
     "output_type": "stream",
     "text": [
      "<FreqDist with 17 samples and 560 outcomes>\n"
     ]
    }
   ],
   "source": [
    "fdist = FreqDist(len(w) for w in full_text)\n",
    "print(fdist)"
   ]
  },
  {
   "cell_type": "code",
   "execution_count": 25,
   "metadata": {
    "collapsed": false
   },
   "outputs": [
    {
     "data": {
      "text/plain": [
       "FreqDist({1: 96,\n",
       "          2: 118,\n",
       "          3: 60,\n",
       "          4: 29,\n",
       "          5: 37,\n",
       "          6: 32,\n",
       "          7: 48,\n",
       "          8: 34,\n",
       "          9: 37,\n",
       "          10: 27,\n",
       "          11: 21,\n",
       "          12: 10,\n",
       "          13: 6,\n",
       "          14: 1,\n",
       "          15: 2,\n",
       "          17: 1,\n",
       "          20: 1})"
      ]
     },
     "execution_count": 25,
     "metadata": {},
     "output_type": "execute_result"
    }
   ],
   "source": [
    "fdist"
   ]
  },
  {
   "cell_type": "code",
   "execution_count": 26,
   "metadata": {
    "collapsed": false
   },
   "outputs": [
    {
     "data": {
      "text/plain": [
       "[(2, 118),\n",
       " (1, 96),\n",
       " (3, 60),\n",
       " (7, 48),\n",
       " (9, 37),\n",
       " (5, 37),\n",
       " (8, 34),\n",
       " (6, 32),\n",
       " (4, 29),\n",
       " (10, 27),\n",
       " (11, 21),\n",
       " (12, 10),\n",
       " (13, 6),\n",
       " (15, 2),\n",
       " (20, 1),\n",
       " (17, 1),\n",
       " (14, 1)]"
      ]
     },
     "execution_count": 26,
     "metadata": {},
     "output_type": "execute_result"
    }
   ],
   "source": [
    "fdist.most_common()"
   ]
  },
  {
   "cell_type": "code",
   "execution_count": 27,
   "metadata": {
    "collapsed": false
   },
   "outputs": [
    {
     "data": {
      "text/plain": [
       "2"
      ]
     },
     "execution_count": 27,
     "metadata": {},
     "output_type": "execute_result"
    }
   ],
   "source": [
    "fdist.max()"
   ]
  },
  {
   "cell_type": "code",
   "execution_count": 28,
   "metadata": {
    "collapsed": false
   },
   "outputs": [
    {
     "data": {
      "text/plain": [
       "60"
      ]
     },
     "execution_count": 28,
     "metadata": {},
     "output_type": "execute_result"
    }
   ],
   "source": [
    "fdist[3]"
   ]
  },
  {
   "cell_type": "code",
   "execution_count": 29,
   "metadata": {
    "collapsed": false
   },
   "outputs": [
    {
     "data": {
      "text/plain": [
       "0.10714285714285714"
      ]
     },
     "execution_count": 29,
     "metadata": {},
     "output_type": "execute_result"
    }
   ],
   "source": [
    "fdist.freq(3)"
   ]
  }
 ],
 "metadata": {
  "kernelspec": {
   "display_name": "Python 3",
   "language": "python",
   "name": "python3"
  },
  "language_info": {
   "codemirror_mode": {
    "name": "ipython",
    "version": 3
   },
   "file_extension": ".py",
   "mimetype": "text/x-python",
   "name": "python",
   "nbconvert_exporter": "python",
   "pygments_lexer": "ipython3",
   "version": "3.6.0"
  }
 },
 "nbformat": 4,
 "nbformat_minor": 2
}
