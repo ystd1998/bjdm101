{
 "cells": [
  {
   "cell_type": "markdown",
   "metadata": {},
   "source": [
    "## Functions as Arguments"
   ]
  },
  {
   "cell_type": "code",
   "execution_count": 1,
   "metadata": {
    "collapsed": true
   },
   "outputs": [],
   "source": [
    "sent = ['Take', 'care', 'of', 'the', 'sense', ',', 'and', 'the',\n",
    "        'sounds', 'will', 'take', 'care', 'of', 'themselves', '.']"
   ]
  },
  {
   "cell_type": "code",
   "execution_count": 2,
   "metadata": {
    "collapsed": true
   },
   "outputs": [],
   "source": [
    "def extract_property(prop):\n",
    "    return [prop(word) for word in sent]"
   ]
  },
  {
   "cell_type": "code",
   "execution_count": 3,
   "metadata": {
    "collapsed": false
   },
   "outputs": [
    {
     "data": {
      "text/plain": [
       "[4, 4, 2, 3, 5, 1, 3, 3, 6, 4, 4, 4, 2, 10, 1]"
      ]
     },
     "execution_count": 3,
     "metadata": {},
     "output_type": "execute_result"
    }
   ],
   "source": [
    "extract_property(len)"
   ]
  },
  {
   "cell_type": "code",
   "execution_count": 4,
   "metadata": {
    "collapsed": false
   },
   "outputs": [
    {
     "data": {
      "text/plain": [
       "['e', 'e', 'f', 'e', 'e', ',', 'd', 'e', 's', 'l', 'e', 'e', 'f', 's', '.']"
      ]
     },
     "execution_count": 4,
     "metadata": {},
     "output_type": "execute_result"
    }
   ],
   "source": [
    "def last_letter(word):\n",
    "    return word[-1]\n",
    "extract_property(last_letter)"
   ]
  },
  {
   "cell_type": "code",
   "execution_count": 5,
   "metadata": {
    "collapsed": false
   },
   "outputs": [
    {
     "data": {
      "text/plain": [
       "['e', 'e', 'f', 'e', 'e', ',', 'd', 'e', 's', 'l', 'e', 'e', 'f', 's', '.']"
      ]
     },
     "execution_count": 5,
     "metadata": {},
     "output_type": "execute_result"
    }
   ],
   "source": [
    "extract_property(lambda w: w[-1])"
   ]
  },
  {
   "cell_type": "code",
   "execution_count": 7,
   "metadata": {
    "collapsed": false
   },
   "outputs": [
    {
     "name": "stdout",
     "output_type": "stream",
     "text": [
      "[',', '.', 'Take', 'and', 'care', 'care', 'of', 'of', 'sense', 'sounds', 'take', 'the', 'the', 'themselves', 'will']\n"
     ]
    }
   ],
   "source": [
    "print(sorted(sent))"
   ]
  },
  {
   "cell_type": "markdown",
   "metadata": {},
   "source": [
    "## Accumulative Functions"
   ]
  },
  {
   "cell_type": "code",
   "execution_count": 11,
   "metadata": {
    "collapsed": true
   },
   "outputs": [],
   "source": [
    "def search1(substring, words):\n",
    "    result = []\n",
    "    for word in words:\n",
    "        if substring in word:\n",
    "            result.append(word)\n",
    "    return result\n",
    "\n",
    "def search2(substring, words):\n",
    "    for word in words:\n",
    "        if substring in word:\n",
    "            yield word\n",
    "            \n",
    "# search2 is a generator\n",
    "# 1. main calls search2\n",
    "# 2. function gets as far as yield statement and pauses\n",
    "# 3. main uses the first word\n",
    "# 4. main call function to continue, until next yield\n",
    "# 5. repeat loop"
   ]
  },
  {
   "cell_type": "code",
   "execution_count": 15,
   "metadata": {
    "collapsed": false
   },
   "outputs": [
    {
     "name": "stdout",
     "output_type": "stream",
     "text": [
      "Grizzlies' fizzled Rizzuto huzzahs dazzler jazz Pezza Pezza Pezza embezzling embezzlement pizza jazz Ozzie nozzle drizzly puzzle puzzle dazzling Sizzling guzzle puzzles dazzling jazz jazz Jazz jazz Jazz jazz jazz Jazz jazz jazz jazz Jazz jazz dizzy jazz Jazz puzzler jazz jazzmen jazz jazz Jazz Jazz Jazz jazz Jazz jazz jazz jazz Jazz jazz jazz jazz jazz jazz jazz jazz jazz jazz Jazz Jazz jazz jazz nozzles nozzle puzzle buzz puzzle blizzard blizzard sizzling puzzled puzzle puzzle muzzle muzzle muezzin blizzard Neo-Jazz jazz muzzle piazzas puzzles puzzles embezzle buzzed snazzy buzzes puzzled puzzled muzzle whizzing jazz Belshazzar Lizzie Lizzie Lizzie Lizzie Lizzie Lizzie Lizzie Lizzie Lizzie's Lizzie Lizzie Lizzie Lizzie Lizzie Lizzie Lizzie Lizzie Lizzie blizzard blizzards blizzard blizzard fuzzy Lazzeri Piazza piazza palazzi Piazza Piazza Palazzo Palazzo Palazzo Piazza Piazza Palazzo palazzo palazzo Palazzo Palazzo Piazza piazza piazza piazza Piazza Piazza Palazzo palazzo Piazza piazza pizza Piazza Palazzo palazzo dazzling puzzling Wozzek dazzling dazzling buzzing Jazz jazz Jazz Jazz jazz jazz jazz jazz Jazz jazz jazz jazz Fuzzy Lizzy Lizzy jazz fuzzy puzzles puzzling puzzling dazzle puzzle dazzling puzzled jazz jazz jazz jazzy whizzed frazzled quizzical puzzling poetry-and-jazz poetry-and-jazz jazz jazz jazz jazz jazz jazz jazz Jazz jazz jazz jazz poetry-and-jazz jazz jazz jazz Dizzy jazz jazz jazz jazz jazz poetry-and-jazz jazz jazz jazz jazz jazz jazz jazz jazz jazz jazz jazz jazz dazzled bedazzlement bedazzled Piazzo nozzles nozzles buzzing dazzles dizzy puzzling puzzling puzzling puzzle muzzle puzzled nozzle Pozzatti Pozzatti Pozzatti puzzled Pozzatti Pozzatti dazzling pizzicato Jazz jazz jazz jazz jazz nozzle grizzled fuzzy muzzle puzzled puzzle muzzle blizzard buzz dizzily drizzle drizzle drizzle sizzled puzzled puzzled puzzled fuzzed buzz buzz buzz buzz-buzz-buzz buzzes fuzzy frizzled drizzle drizzle drizzling drizzling fuzz jazz jazz fuzz puzzle puzzling Nozze mezzo puzzled puzzled dazzling muzzle muzzle muzzle buzzed whizzed sizzled palazzos puzzlement frizzling puzzled puzzled puzzled dazzling muzzles fuzzy jazz ex-jazz sizzle grizzly guzzled buzzing fuzz nuzzled Kizzie Kizzie Kizzie Kezziah Kizzie Kizzie Buzz's Buzz Buzz Buzz Buzz Buzz Buzz Buzz Buzz dizzy piazza buzzing Puzzled dizziness dazzled Piazza Carrozza fuzzy dizzy buzzing buzzing puzzled puzzling puzzled puzzled Quizzical pizza "
     ]
    }
   ],
   "source": [
    "import nltk\n",
    "for item in search1('zz', nltk.corpus.brown.words()):\n",
    "    print(item, end=\" \")"
   ]
  },
  {
   "cell_type": "code",
   "execution_count": 14,
   "metadata": {
    "collapsed": false
   },
   "outputs": [
    {
     "name": "stdout",
     "output_type": "stream",
     "text": [
      "Grizzlies' fizzled Rizzuto huzzahs dazzler jazz Pezza Pezza Pezza embezzling embezzlement pizza jazz Ozzie nozzle drizzly puzzle puzzle dazzling Sizzling guzzle puzzles dazzling jazz jazz Jazz jazz Jazz jazz jazz Jazz jazz jazz jazz Jazz jazz dizzy jazz Jazz puzzler jazz jazzmen jazz jazz Jazz Jazz Jazz jazz Jazz jazz jazz jazz Jazz jazz jazz jazz jazz jazz jazz jazz jazz jazz Jazz Jazz jazz jazz nozzles nozzle puzzle buzz puzzle blizzard blizzard sizzling puzzled puzzle puzzle muzzle muzzle muezzin blizzard Neo-Jazz jazz muzzle piazzas puzzles puzzles embezzle buzzed snazzy buzzes puzzled puzzled muzzle whizzing jazz Belshazzar Lizzie Lizzie Lizzie Lizzie Lizzie Lizzie Lizzie Lizzie Lizzie's Lizzie Lizzie Lizzie Lizzie Lizzie Lizzie Lizzie Lizzie Lizzie blizzard blizzards blizzard blizzard fuzzy Lazzeri Piazza piazza palazzi Piazza Piazza Palazzo Palazzo Palazzo Piazza Piazza Palazzo palazzo palazzo Palazzo Palazzo Piazza piazza piazza piazza Piazza Piazza Palazzo palazzo Piazza piazza pizza Piazza Palazzo palazzo dazzling puzzling Wozzek dazzling dazzling buzzing Jazz jazz Jazz Jazz jazz jazz jazz jazz Jazz jazz jazz jazz Fuzzy Lizzy Lizzy jazz fuzzy puzzles puzzling puzzling dazzle puzzle dazzling puzzled jazz jazz jazz jazzy whizzed frazzled quizzical puzzling poetry-and-jazz poetry-and-jazz jazz jazz jazz jazz jazz jazz jazz Jazz jazz jazz jazz poetry-and-jazz jazz jazz jazz Dizzy jazz jazz jazz jazz jazz poetry-and-jazz jazz jazz jazz jazz jazz jazz jazz jazz jazz jazz jazz jazz dazzled bedazzlement bedazzled Piazzo nozzles nozzles buzzing dazzles dizzy puzzling puzzling puzzling puzzle muzzle puzzled nozzle Pozzatti Pozzatti Pozzatti puzzled Pozzatti Pozzatti dazzling pizzicato Jazz jazz jazz jazz jazz nozzle grizzled fuzzy muzzle puzzled puzzle muzzle blizzard buzz dizzily drizzle drizzle drizzle sizzled puzzled puzzled puzzled fuzzed buzz buzz buzz buzz-buzz-buzz buzzes fuzzy frizzled drizzle drizzle drizzling drizzling fuzz jazz jazz fuzz puzzle puzzling Nozze mezzo puzzled puzzled dazzling muzzle muzzle muzzle buzzed whizzed sizzled palazzos puzzlement frizzling puzzled puzzled puzzled dazzling muzzles fuzzy jazz ex-jazz sizzle grizzly guzzled buzzing fuzz nuzzled Kizzie Kizzie Kizzie Kezziah Kizzie Kizzie Buzz's Buzz Buzz Buzz Buzz Buzz Buzz Buzz Buzz dizzy piazza buzzing Puzzled dizziness dazzled Piazza Carrozza fuzzy dizzy buzzing buzzing puzzled puzzling puzzled puzzled Quizzical pizza "
     ]
    }
   ],
   "source": [
    "for item in search2('zz', nltk.corpus.brown.words()):\n",
    "    print(item, end=\" \")"
   ]
  },
  {
   "cell_type": "code",
   "execution_count": 16,
   "metadata": {
    "collapsed": true
   },
   "outputs": [],
   "source": [
    "def permutations(seq):\n",
    "    if len(seq) <= 1:\n",
    "        yield seq\n",
    "    else:\n",
    "        for perm in permutations(seq[1:]):\n",
    "            for i in range(len(perm)+1):\n",
    "                yield perm[:i] + seq[0:1] + perm[i:]"
   ]
  },
  {
   "cell_type": "code",
   "execution_count": 17,
   "metadata": {
    "collapsed": false
   },
   "outputs": [
    {
     "data": {
      "text/plain": [
       "[['police', 'fish', 'buffalo'],\n",
       " ['fish', 'police', 'buffalo'],\n",
       " ['fish', 'buffalo', 'police'],\n",
       " ['police', 'buffalo', 'fish'],\n",
       " ['buffalo', 'police', 'fish'],\n",
       " ['buffalo', 'fish', 'police']]"
      ]
     },
     "execution_count": 17,
     "metadata": {},
     "output_type": "execute_result"
    }
   ],
   "source": [
    "list(permutations(['police', 'fish', 'buffalo']))"
   ]
  },
  {
   "cell_type": "code",
   "execution_count": 23,
   "metadata": {
    "collapsed": false
   },
   "outputs": [
    {
     "name": "stdout",
     "output_type": "stream",
     "text": [
      "['police', 'fish', 'buffalo']\n",
      "['fish', 'police', 'buffalo']\n",
      "['fish', 'buffalo', 'police']\n",
      "['police', 'buffalo', 'fish']\n",
      "['buffalo', 'police', 'fish']\n",
      "['buffalo', 'fish', 'police']\n"
     ]
    }
   ],
   "source": [
    "for item in permutations(['police', 'fish', 'buffalo']):\n",
    "    print(item)"
   ]
  },
  {
   "cell_type": "markdown",
   "metadata": {},
   "source": [
    "## Higher-Order Functions"
   ]
  },
  {
   "cell_type": "code",
   "execution_count": 26,
   "metadata": {
    "collapsed": false
   },
   "outputs": [
    {
     "data": {
      "text/plain": [
       "['Take', 'care', 'sense', 'sounds', 'take', 'care', 'themselves']"
      ]
     },
     "execution_count": 26,
     "metadata": {},
     "output_type": "execute_result"
    }
   ],
   "source": [
    "def is_content_word(word):\n",
    "    return word.lower() not in ['a', 'of', 'the', 'and', 'will', ',', '.']\n",
    "sent = ['Take', 'care', 'of', 'the', 'sense', ',', 'and', 'the',\n",
    "        'sounds', 'will', 'take', 'care', 'of', 'themselves', '.']\n",
    "# filter\n",
    "list(filter(is_content_word, sent))\n",
    "# applies   function  to    each item   in the sequence\n",
    "# only retains   items    for which   function == True."
   ]
  },
  {
   "cell_type": "code",
   "execution_count": 35,
   "metadata": {
    "collapsed": false
   },
   "outputs": [],
   "source": [
    "# map\n",
    "lengths = list( map(len, nltk.corpus.brown.sents(categories='news')) )"
   ]
  },
  {
   "cell_type": "code",
   "execution_count": 37,
   "metadata": {
    "collapsed": false
   },
   "outputs": [
    {
     "data": {
      "text/plain": [
       "21.75081116158339"
      ]
     },
     "execution_count": 37,
     "metadata": {},
     "output_type": "execute_result"
    }
   ],
   "source": [
    "sum(lengths) / len(lengths)"
   ]
  },
  {
   "cell_type": "code",
   "execution_count": 38,
   "metadata": {
    "collapsed": false
   },
   "outputs": [
    {
     "name": "stdout",
     "output_type": "stream",
     "text": [
      "[25, 43, 35, 37, 24, 24, 43, 2, 26, 25, 14, 14, 28, 24, 59, 23, 25, 17, 34, 2, 33, 33, 33, 33, 3, 12, 31, 3, 28, 34, 22, 6, 9, 20, 15, 16, 16, 20, 11, 13, 17, 14, 10, 30, 22, 23, 37, 34, 20, 28, 32, 31, 22, 21, 9, 20, 17, 28, 32, 18, 21, 2, 26, 43, 31, 3, 35, 33, 28, 33, 41, 30, 13, 20, 25, 27, 36, 37, 16, 18, 35, 1, 37, 31, 13, 18, 19, 12, 18, 13, 16, 33, 18, 19, 29, 12, 11, 9, 3, 23, 36, 14, 22, 37, 29, 24, 31, 20, 38, 19, 12, 39, 31, 20, 22, 3, 30, 24, 15, 53, 49, 31, 24, 30, 21, 21, 11, 20, 26, 26, 22, 7, 9, 25, 32, 26, 7, 34, 30, 14, 42, 37, 36, 36, 3, 20, 34, 24, 25, 29, 22, 16, 3, 14, 44, 33, 14, 21, 31, 36, 36, 12, 9, 9, 3, 25, 41, 11, 22, 13, 38, 13, 14, 6, 25, 21, 15, 29, 18, 19, 51, 18, 6, 28, 32, 38, 25, 5, 34, 22, 34, 21, 3, 8, 27, 16, 31, 34, 23, 14, 3, 17, 15, 21, 23, 10, 21, 9, 4, 39, 39, 36, 3, 28, 48, 38, 24, 16, 10, 20, 20, 3, 41, 22, 11, 25, 16, 56, 3, 14, 32, 45, 24, 8, 3, 34, 4, 49, 49, 23, 8, 6, 28, 29, 26, 15, 46, 3, 35, 9, 24, 14, 3, 23, 33, 1, 17, 36, 1, 15, 1, 14, 24, 3, 52, 37, 10, 16, 11, 3, 8, 9, 29, 27, 24, 3, 26, 24, 25, 23, 30, 4, 29, 23, 12, 24, 14, 3, 16, 8, 27, 29, 33, 3, 10, 17, 12, 32, 17, 31, 4, 22, 14, 14, 24, 41, 3, 30, 1, 39, 30, 27, 35, 49, 2, 39, 23, 45, 27, 30, 29, 17, 47, 2, 32, 58, 38, 51, 40, 2, 52, 68, 31, 18, 1, 25, 29, 41, 17, 15, 17, 2, 36, 20, 18, 24, 26, 17, 19, 16, 2, 25, 32, 23, 20, 20, 47, 27, 2, 22, 32, 23, 16, 26, 41, 3, 40, 12, 11, 11, 21, 28, 17, 13, 37, 17, 28, 8, 1, 34, 11, 36, 25, 35, 24, 27, 1, 20, 20, 44, 33, 2, 53, 34, 32, 26, 28, 30, 9, 23, 11, 36, 37, 24, 15, 24, 4, 44, 22, 31, 23, 47, 23, 10, 27, 25, 39, 21, 18, 16, 34, 31, 8, 27, 30, 41, 16, 39, 38, 18, 21, 26, 36, 32, 23, 41, 16, 25, 32, 33, 42, 25, 19, 22, 8, 16, 14, 14, 27, 27, 50, 37, 36, 16, 38, 40, 39, 36, 28, 27, 37, 22, 25, 24, 29, 19, 19, 34, 32, 21, 37, 13, 33, 49, 34, 24, 30, 13, 14, 20, 1, 48, 37, 24, 25, 39, 26, 35, 17, 16, 3, 29, 23, 2, 15, 39, 18, 11, 13, 35, 2, 29, 28, 22, 25, 28, 24, 44, 2, 8, 20, 73, 24, 33, 10, 3, 24, 30, 37, 29, 24, 23, 3, 24, 8, 27, 17, 35, 30, 33, 20, 28, 35, 42, 40, 7, 1, 25, 24, 32, 17, 30, 14, 17, 24, 1, 36, 46, 30, 2, 31, 15, 22, 26, 18, 18, 19, 31, 19, 21, 40, 23, 20, 2, 15, 16, 32, 29, 18, 25, 26, 11, 1, 23, 35, 24, 24, 23, 10, 36, 23, 30, 29, 17, 2, 32, 25, 26, 41, 3, 21, 20, 19, 23, 36, 19, 4, 67, 19, 22, 4, 7, 25, 4, 15, 13, 22, 14, 7, 36, 21, 29, 12, 15, 18, 19, 26, 9, 25, 9, 4, 15, 17, 36, 11, 16, 37, 13, 3, 19, 14, 24, 14, 32, 15, 4, 22, 23, 27, 27, 23, 29, 9, 23, 2, 35, 21, 24, 9, 7, 9, 12, 2, 13, 6, 5, 8, 15, 27, 16, 26, 4, 36, 13, 21, 25, 19, 21, 13, 8, 24, 30, 39, 14, 30, 21, 5, 17, 10, 28, 24, 24, 4, 24, 19, 30, 6, 27, 17, 7, 4, 49, 12, 14, 20, 19, 22, 4, 28, 30, 8, 24, 21, 18, 16, 23, 17, 7, 1, 27, 45, 29, 10, 2, 20, 20, 34, 17, 19, 10, 20, 3, 34, 20, 17, 18, 32, 17, 18, 11, 24, 16, 14, 15, 12, 42, 3, 14, 32, 33, 32, 24, 3, 22, 38, 28, 37, 32, 15, 2, 28, 12, 32, 49, 28, 28, 15, 2, 42, 26, 32, 33, 4, 29, 14, 18, 34, 32, 32, 2, 20, 15, 33, 17, 22, 27, 9, 13, 17, 15, 23, 2, 17, 17, 37, 32, 38, 19, 12, 39, 31, 2, 29, 14, 22, 32, 37, 26, 23, 29, 36, 16, 2, 35, 19, 19, 17, 16, 30, 13, 22, 62, 2, 26, 24, 22, 3, 22, 9, 28, 17, 18, 9, 20, 4, 19, 25, 17, 22, 12, 18, 16, 20, 6, 15, 26, 15, 10, 13, 41, 10, 22, 3, 23, 23, 19, 17, 16, 2, 22, 28, 21, 20, 2, 20, 30, 17, 16, 3, 26, 17, 22, 47, 18, 36, 16, 11, 16, 28, 18, 19, 18, 3, 40, 29, 41, 3, 32, 18, 28, 18, 12, 10, 33, 32, 7, 4, 33, 25, 22, 16, 4, 16, 9, 23, 13, 19, 27, 4, 28, 25, 15, 22, 16, 8, 9, 25, 33, 45, 27, 12, 33, 43, 23, 25, 14, 14, 10, 38, 27, 27, 47, 2, 22, 42, 10, 25, 23, 3, 22, 19, 23, 24, 24, 31, 25, 29, 46, 62, 22, 7, 32, 50, 35, 19, 27, 33, 4, 19, 19, 17, 13, 20, 21, 24, 25, 32, 37, 25, 14, 35, 26, 5, 17, 13, 8, 16, 20, 12, 23, 36, 19, 20, 17, 59, 3, 9, 19, 12, 35, 19, 5, 6, 3, 7, 7, 11, 3, 23, 8, 7, 26, 32, 24, 16, 24, 3, 40, 33, 17, 11, 15, 27, 13, 5, 23, 8, 17, 17, 35, 16, 20, 23, 39, 37, 3, 29, 40, 34, 6, 43, 28, 3, 42, 25, 35, 3, 20, 17, 25, 44, 25, 14, 2, 32, 24, 27, 36, 3, 26, 26, 8, 26, 37, 55, 19, 14, 2, 41, 14, 27, 15, 29, 2, 20, 10, 9, 18, 48, 6, 39, 18, 12, 50, 3, 21, 18, 34, 28, 5, 35, 30, 27, 26, 5, 38, 28, 38, 16, 3, 28, 11, 29, 38, 18, 25, 25, 17, 20, 23, 22, 15, 10, 6, 42, 40, 3, 43, 32, 32, 4, 36, 15, 7, 36, 36, 15, 16, 25, 6, 41, 20, 29, 8, 32, 14, 21, 10, 29, 3, 25, 19, 29, 35, 13, 27, 23, 20, 15, 20, 25, 11, 41, 23, 24, 32, 25, 18, 21, 48, 16, 13, 12, 15, 22, 9, 22, 17, 17, 2, 25, 40, 25, 12, 48, 19, 29, 4, 11, 26, 7, 24, 28, 26, 25, 9, 17, 11, 10, 14, 11, 22, 14, 19, 17, 24, 13, 31, 15, 11, 22, 14, 10, 21, 11, 14, 17, 24, 27, 24, 24, 19, 2, 59, 43, 46, 20, 35, 54, 37, 39, 7, 3, 15, 57, 26, 13, 18, 27, 34, 27, 18, 21, 40, 5, 30, 26, 28, 47, 19, 37, 15, 34, 21, 30, 20, 16, 13, 19, 21, 19, 16, 12, 24, 32, 22, 23, 20, 17, 25, 32, 4, 11, 18, 14, 9, 21, 23, 16, 10, 33, 9, 49, 16, 13, 18, 26, 29, 40, 43, 36, 33, 10, 16, 11, 23, 12, 18, 49, 29, 22, 18, 17, 10, 7, 8, 10, 13, 8, 27, 10, 18, 6, 4, 4, 6, 24, 32, 21, 16, 20, 22, 17, 22, 21, 26, 29, 33, 32, 11, 23, 41, 17, 27, 12, 23, 6, 11, 22, 19, 39, 31, 25, 12, 26, 12, 20, 21, 19, 6, 34, 43, 23, 22, 10, 11, 31, 33, 28, 31, 28, 4, 21, 18, 14, 27, 6, 6, 3, 6, 32, 21, 24, 21, 12, 19, 4, 31, 11, 14, 18, 14, 16, 10, 8, 21, 34, 50, 30, 9, 23, 10, 29, 20, 17, 3, 32, 34, 27, 13, 18, 10, 22, 29, 21, 4, 12, 32, 9, 17, 20, 6, 13, 11, 18, 16, 16, 28, 9, 23, 10, 27, 28, 29, 28, 13, 3, 15, 17, 43, 17, 16, 5, 27, 22, 18, 17, 32, 6, 16, 4, 16, 13, 11, 13, 13, 11, 8, 26, 40, 23, 29, 13, 3, 10, 10, 8, 18, 5, 6, 9, 31, 9, 22, 5, 26, 14, 20, 35, 36, 8, 14, 10, 10, 33, 4, 12, 6, 8, 10, 15, 20, 16, 8, 21, 23, 24, 38, 35, 31, 16, 10, 17, 18, 23, 17, 12, 30, 36, 14, 4, 37, 13, 11, 33, 19, 34, 8, 17, 17, 8, 5, 22, 23, 15, 11, 16, 19, 12, 11, 24, 4, 22, 31, 6, 3, 1, 15, 39, 21, 21, 8, 6, 4, 29, 19, 11, 7, 17, 26, 20, 26, 28, 20, 29, 8, 38, 20, 30, 36, 11, 20, 26, 28, 19, 28, 22, 23, 31, 26, 22, 26, 16, 24, 36, 20, 39, 19, 40, 12, 36, 18, 9, 37, 23, 9, 24, 2, 21, 47, 11, 26, 6, 35, 35, 28, 28, 2, 39, 14, 33, 26, 8, 24, 38, 23, 33, 15, 11, 48, 3, 17, 24, 37, 39, 12, 15, 15, 25, 18, 8, 17, 7, 13, 38, 8, 13, 8, 5, 42, 33, 6, 23, 27, 21, 19, 1, 40, 12, 15, 28, 8, 12, 39, 3, 32, 22, 59, 31, 45, 18, 15, 54, 3, 8, 32, 11, 17, 15, 20, 34, 27, 15, 1, 42, 21, 16, 19, 18, 20, 8, 3, 34, 41, 25, 33, 15, 24, 4, 23, 19, 28, 12, 25, 20, 15, 8, 13, 18, 24, 16, 46, 15, 25, 15, 18, 22, 9, 21, 21, 26, 28, 25, 8, 5, 21, 13, 8, 19, 39, 17, 51, 21, 19, 23, 8, 26, 42, 9, 16, 23, 9, 22, 7, 28, 23, 5, 20, 8, 40, 24, 21, 27, 26, 20, 29, 20, 17, 9, 4, 27, 17, 24, 29, 2, 32, 10, 24, 24, 28, 9, 2, 20, 20, 11, 11, 16, 83, 11, 29, 18, 9, 15, 19, 26, 14, 10, 38, 57, 22, 30, 34, 18, 14, 11, 36, 33, 28, 22, 36, 39, 15, 6, 22, 11, 9, 32, 3, 36, 42, 18, 10, 17, 24, 3, 31, 14, 21, 43, 5, 46, 4, 32, 36, 15, 25, 14, 18, 14, 11, 39, 32, 59, 18, 10, 19, 15, 38, 39, 18, 20, 7, 29, 14, 27, 17, 15, 22, 16, 23, 9, 8, 40, 27, 26, 25, 7, 47, 6, 5, 11, 16, 3, 40, 21, 6, 11, 22, 10, 7, 27, 2, 10, 26, 27, 53, 2, 31, 14, 21, 27, 25, 3, 15, 13, 18, 29, 13, 8, 11, 8, 12, 9, 21, 32, 33, 38, 84, 15, 60, 28, 23, 26, 9, 8, 6, 25, 6, 47, 18, 12, 26, 2, 28, 20, 20, 21, 7, 21, 2, 12, 23, 52, 29, 14, 15, 21, 30, 20, 36, 11, 15, 17, 26, 32, 40, 32, 19, 12, 18, 39, 10, 20, 9, 20, 45, 44, 26, 16, 31, 36, 57, 30, 33, 22, 21, 23, 30, 23, 32, 9, 36, 19, 4, 9, 23, 11, 1, 19, 36, 19, 32, 25, 29, 19, 12, 22, 43, 27, 22, 24, 16, 4, 13, 8, 19, 21, 4, 36, 39, 27, 2, 32, 23, 7, 9, 24, 52, 44, 20, 28, 11, 14, 11, 19, 2, 18, 30, 41, 2, 34, 14, 18, 34, 4, 11, 20, 7, 39, 37, 44, 7, 35, 17, 11, 15, 26, 15, 4, 53, 12, 24, 15, 3, 17, 24, 21, 4, 19, 39, 17, 3, 30, 18, 13, 20, 23, 30, 6, 10, 10, 11, 31, 8, 10, 10, 11, 18, 28, 24, 44, 56, 3, 12, 25, 18, 14, 21, 17, 12, 11, 24, 4, 43, 19, 15, 20, 20, 4, 28, 7, 25, 16, 20, 29, 3, 16, 27, 1, 61, 20, 5, 7, 50, 4, 21, 60, 22, 20, 8, 28, 16, 29, 5, 28, 27, 45, 18, 2, 23, 39, 26, 16, 33, 19, 11, 22, 3, 41, 13, 36, 31, 33, 13, 16, 9, 11, 18, 26, 53, 3, 21, 6, 6, 52, 15, 53, 31, 37, 6, 50, 12, 26, 18, 58, 4, 21, 18, 27, 15, 31, 38, 34, 20, 16, 43, 26, 30, 8, 56, 36, 22, 15, 37, 44, 36, 23, 25, 33, 8, 26, 8, 36, 2, 38, 10, 10, 13, 13, 14, 3, 32, 21, 18, 7, 19, 3, 31, 13, 13, 35, 3, 15, 25, 38, 11, 22, 7, 20, 13, 41, 34, 46, 2, 42, 35, 39, 2, 33, 17, 15, 5, 5, 5, 36, 31, 2, 40, 33, 34, 3, 31, 17, 34, 36, 3, 34, 35, 32, 2, 11, 10, 16, 12, 20, 25, 39, 28, 3, 36, 17, 30, 26, 3, 37, 18, 11, 17, 2, 34, 20, 28, 15, 3, 14, 17, 16, 30, 14, 2, 24, 35, 12, 11, 5, 29, 15, 31, 3, 29, 27, 9, 32, 3, 17, 25, 28, 17, 30, 39, 19, 30, 28, 29, 25, 58, 18, 22, 53, 32, 8, 21, 3, 19, 30, 23, 37, 35, 48, 2, 18, 96, 35, 20, 21, 47, 24, 22, 5, 22, 13, 16, 38, 27, 2, 22, 22, 13, 30, 7, 9, 25, 32, 44, 22, 3, 18, 11, 17, 9, 20, 18, 3, 21, 7, 16, 19, 12, 3, 20, 14, 17, 38, 40, 29, 2, 6, 42, 27, 18, 12, 2, 10, 18, 25, 15, 16, 11, 18, 9, 34, 29, 20, 25, 23, 21, 22, 40, 29, 16, 14, 18, 42, 21, 22, 15, 18, 16, 13, 17, 25, 14, 24, 16, 3, 20, 33, 4, 39, 33, 41, 25, 22, 12, 3, 55, 39, 33, 34, 40, 45, 3, 31, 27, 32, 20, 21, 28, 13, 2, 31, 57, 25, 31, 15, 15, 37, 30, 36, 17, 17, 35, 10, 16, 43, 27, 20, 22, 5, 8, 10, 32, 37, 26, 21, 8, 15, 20, 23, 20, 15, 23, 19, 8, 9, 14, 19, 8, 7, 14, 8, 12, 4, 21, 8, 35, 40, 29, 24, 33, 3, 31, 25, 23, 29, 15, 17, 21, 3, 29, 19, 21, 8, 6, 7, 6, 6, 4, 29, 25, 20, 18, 17, 10, 2, 16, 14, 17, 18, 16, 20, 17, 10, 33, 12, 21, 19, 15, 26, 18, 33, 15, 10, 8, 35, 12, 41, 55, 27, 6, 19, 5, 29, 23, 21, 8, 15, 12, 18, 11, 12, 23, 18, 13, 34, 43, 28, 34, 28, 30, 41, 52, 13, 12, 47, 5, 19, 18, 29, 27, 59, 52, 13, 43, 22, 37, 15, 6, 10, 23, 19, 6, 16, 8, 13, 34, 39, 11, 12, 25, 17, 33, 26, 19, 29, 37, 20, 26, 27, 27, 28, 11, 7, 35, 28, 18, 42, 7, 14, 22, 19, 27, 22, 25, 7, 41, 13, 9, 17, 24, 23, 8, 20, 6, 25, 22, 10, 33, 23, 13, 4, 34, 24, 24, 27, 17, 25, 50, 30, 9, 6, 22, 23, 34, 25, 19, 30, 15, 24, 7, 36, 14, 12, 11, 9, 24, 20, 18, 10, 24, 25, 28, 11, 9, 16, 14, 32, 29, 27, 18, 11, 20, 35, 22, 9, 20, 20, 23, 12, 8, 54, 23, 29, 13, 31, 24, 17, 6, 18, 23, 37, 31, 3, 48, 31, 25, 19, 3, 42, 19, 23, 19, 3, 14, 41, 25, 25, 15, 14, 3, 39, 27, 32, 22, 21, 23, 26, 42, 17, 28, 53, 23, 3, 44, 21, 33, 28, 4, 20, 15, 26, 14, 19, 3, 16, 7, 27, 31, 16, 16, 26, 38, 21, 15, 26, 15, 23, 21, 15, 30, 51, 22, 11, 8, 13, 24, 27, 34, 40, 14, 11, 23, 42, 40, 50, 25, 29, 40, 23, 29, 37, 28, 19, 47, 27, 20, 24, 20, 24, 37, 14, 10, 14, 24, 11, 16, 7, 10, 19, 15, 14, 21, 4, 13, 10, 15, 17, 8, 8, 17, 26, 7, 12, 34, 19, 9, 6, 14, 22, 21, 13, 16, 14, 7, 18, 7, 17, 12, 23, 20, 12, 20, 27, 44, 19, 23, 26, 23, 47, 24, 16, 26, 21, 35, 27, 15, 16, 16, 15, 15, 14, 14, 27, 40, 2, 55, 57, 15, 6, 48, 56, 2, 34, 46, 2, 23, 46, 39, 2, 22, 6, 10, 39, 31, 36, 21, 5, 29, 40, 27, 3, 19, 17, 25, 10, 11, 12, 8, 11, 42, 39, 2, 57, 22, 54, 3, 23, 36, 31, 29, 24, 41, 24, 17, 3, 39, 19, 5, 5, 5, 8, 5, 16, 12, 11, 9, 1, 31, 7, 9, 14, 1, 18, 24, 14, 15, 9, 13, 14, 20, 23, 25, 14, 23, 8, 9, 4, 35, 44, 4, 31, 21, 37, 13, 2, 45, 33, 28, 21, 18, 16, 4, 15, 13, 8, 8, 9, 23, 38, 2, 12, 6, 17, 20, 10, 8, 15, 3, 37, 3, 38, 10, 26, 22, 26, 18, 44, 21, 35, 33, 41, 20, 5, 38, 11, 14, 16, 15, 18, 39, 23, 38, 22, 16, 9, 9, 3, 32, 23, 34, 20, 35, 27, 19, 25, 25, 34, 9, 37, 11, 28, 18, 38, 12, 22, 22, 28, 32, 30, 33, 19, 30, 11, 34, 33, 21, 12, 31, 15, 28, 28, 7, 28, 25, 12, 15, 43, 35, 24, 22, 30, 27, 26, 13, 33, 21, 38, 26, 35, 24, 7, 18, 41, 10, 24, 1, 18, 31, 31, 32, 23, 31, 35, 23, 27, 24, 16, 34, 40, 26, 19, 47, 23, 34, 8, 6, 17, 13, 16, 7, 21, 21, 20, 14, 15, 25, 26, 19, 17, 20, 27, 40, 10, 27, 29, 23, 18, 32, 13, 30, 20, 21, 21, 26, 11, 17, 15, 7, 20, 28, 20, 25, 14, 21, 6, 19, 12, 23, 14, 23, 16, 16, 16, 2, 9, 6, 9, 11, 12, 20, 8, 15, 7, 17, 15, 1, 30, 15, 41, 34, 33, 24, 54, 18, 30, 32, 28, 29, 27, 26, 11, 21, 23, 17, 17, 29, 17, 27, 10, 18, 20, 15, 14, 24, 11, 11, 14, 16, 5, 18, 13, 28, 23, 16, 32, 7, 16, 14, 7, 17, 12, 22, 30, 13, 28, 3, 13, 7, 15, 8, 19, 13, 22, 37, 25, 26, 7, 18, 16, 30, 19, 7, 26, 28, 24, 16, 31, 17, 25, 31, 32, 17, 11, 14, 29, 24, 33, 9, 7, 13, 9, 12, 7, 23, 23, 38, 11, 3, 15, 6, 4, 18, 23, 9, 6, 7, 10, 36, 15, 17, 10, 30, 5, 15, 20, 28, 46, 9, 25, 16, 5, 16, 29, 27, 37, 3, 13, 41, 12, 22, 23, 20, 2, 21, 16, 7, 14, 6, 25, 18, 22, 15, 3, 34, 21, 52, 20, 20, 23, 33, 14, 15, 22, 45, 2, 23, 29, 19, 37, 12, 7, 25, 15, 23, 38, 19, 39, 2, 27, 23, 39, 25, 35, 17, 17, 15, 26, 1, 11, 14, 15, 11, 35, 26, 39, 3, 32, 24, 20, 20, 20, 25, 22, 2, 11, 7, 7, 26, 32, 16, 15, 3, 8, 32, 10, 17, 19, 20, 19, 18, 11, 12, 29, 15, 1, 3, 27, 8, 20, 2, 32, 9, 18, 2, 21, 26, 12, 23, 30, 10, 10, 1, 29, 23, 27, 19, 46, 10, 6, 6, 5, 2, 25, 24, 16, 21, 37, 17, 24, 11, 30, 35, 30, 30, 31, 19, 30, 46, 24, 27, 31, 29, 30, 30, 16, 54, 25, 29, 27, 16, 14, 30, 24, 8, 12, 27, 36, 31, 16, 28, 24, 25, 37, 25, 16, 25, 31, 37, 15, 64, 8, 27, 28, 19, 14, 22, 1, 27, 15, 27, 31, 27, 39, 20, 23, 32, 31, 1, 51, 11, 9, 26, 18, 52, 52, 27, 29, 13, 7, 25, 28, 22, 37, 10, 41, 28, 50, 9, 25, 21, 32, 39, 12, 11, 11, 16, 16, 22, 19, 8, 19, 23, 11, 10, 19, 24, 18, 19, 19, 26, 9, 19, 13, 15, 9, 17, 9, 45, 20, 21, 22, 44, 24, 42, 8, 7, 8, 6, 5, 9, 19, 8, 11, 9, 15, 6, 11, 10, 18, 11, 8, 24, 5, 9, 1, 5, 6, 10, 10, 4, 13, 7, 5, 7, 19, 8, 7, 13, 8, 9, 18, 13, 11, 13, 12, 1, 43, 26, 13, 39, 28, 24, 38, 26, 19, 31, 21, 12, 30, 30, 18, 33, 16, 58, 30, 21, 28, 38, 40, 67, 31, 56, 42, 47, 31, 14, 13, 22, 24, 26, 14, 44, 34, 27, 25, 41, 14, 13, 21, 23, 19, 19, 15, 25, 11, 23, 29, 16, 24, 25, 12, 17, 24, 29, 37, 17, 49, 21, 6, 28, 14, 12, 29, 17, 16, 32, 30, 7, 10, 9, 7, 19, 31, 15, 21, 34, 34, 18, 10, 8, 13, 30, 23, 15, 11, 11, 13, 21, 37, 3, 27, 4, 17, 19, 41, 24, 7, 17, 13, 29, 26, 22, 13, 31, 3, 46, 21, 17, 16, 31, 27, 22, 40, 2, 29, 24, 44, 34, 18, 29, 20, 2, 20, 16, 23, 34, 34, 37, 21, 11, 29, 20, 36, 3, 17, 32, 26, 45, 24, 21, 33, 20, 15, 26, 42, 24, 10, 27, 40, 34, 21, 15, 16, 39, 37, 18, 11, 21, 29, 5, 34, 39, 2, 61, 21, 14, 15, 30, 22, 29, 33, 20, 14, 3, 28, 23, 29, 14, 29, 18, 45, 29, 33, 24, 7, 29, 25, 39, 23, 31, 15, 25, 19, 22, 19, 36, 18, 12, 26, 41, 16, 35, 16, 22, 31, 28, 30, 35, 41, 16, 26, 29, 8, 13, 11, 32, 57, 23, 21, 22, 57, 44, 41, 102, 55, 53, 47, 30, 24, 24, 15, 18, 21, 53, 48, 16, 13, 44, 34, 36, 5, 36, 32, 36, 43, 41, 25, 49, 14, 31, 28, 19, 27, 32, 23, 23, 55, 26, 36, 38, 55, 16, 36, 30, 34, 36, 37, 18, 5, 15, 16, 42, 18, 13, 16, 11, 35, 29, 29, 14, 38, 19, 16, 12, 31, 14, 44, 37, 14, 19, 36, 25, 48, 15, 26, 22, 68, 19, 25, 34, 1, 28, 11, 25, 26, 19, 17, 37, 19, 16, 22, 32, 7, 54, 15, 31, 9, 20, 51, 17, 9, 15, 42, 21, 76, 14, 54, 57, 23, 21, 61, 12, 8, 38, 19, 29, 7, 17, 10, 13, 21, 22, 16, 2, 3, 30, 13, 16, 23, 29, 4, 64, 22, 20, 9, 20, 11, 33, 4, 40, 35, 35, 33, 48, 4, 19, 33, 21, 11, 59, 35, 13, 45, 59, 21, 21, 26, 2, 4, 41, 26, 18, 21, 15, 3, 50, 28, 34, 21, 22, 13, 54, 3, 22, 24, 50, 18, 19, 42, 40, 16, 41, 8, 12, 5, 20, 43, 25, 4, 19, 22, 44, 30, 20, 17, 36, 40, 27, 19, 4, 35, 24, 40, 35, 17, 12, 15, 22, 40, 27, 20, 1, 2, 21, 25, 57, 17, 31, 20, 40, 30, 31, 12, 15, 9, 51, 5, 12, 31, 17, 24, 26, 23, 23, 21, 29, 20, 43, 19, 41, 33, 36, 3, 32, 34, 36, 20, 32, 7, 38, 22, 22, 17, 5, 35, 60, 25, 20, 17, 17, 24, 19, 2, 19, 21, 37, 18, 12, 40, 22, 18, 19, 22, 13, 1, 27, 68, 27, 22, 24, 23, 41, 38, 40, 47, 4, 28, 27, 26, 6, 7, 11, 30, 7, 27, 7, 26, 20, 21, 19, 28, 29, 19, 10, 18, 15, 14, 10, 11, 30, 32, 26, 16, 30, 22, 72, 5, 14, 39, 30, 24, 32, 25, 16, 26, 30, 37, 26, 11, 21, 3, 45, 35, 19, 12, 15, 28, 13, 12, 23, 15, 20, 1, 28, 11, 12, 2, 15, 31, 33, 42, 34, 29, 29, 12, 12, 50, 34, 45, 26, 36, 10, 9, 29, 17, 10, 26, 3, 31, 21, 19, 13, 6, 18, 9, 25, 17, 21, 7, 10, 7, 22, 33, 25, 21, 4, 12, 19, 8, 9, 22, 4, 17, 12, 8, 12, 28, 3, 19, 5, 40, 19, 7, 3, 12, 6, 55, 7, 4, 26, 6, 14, 13, 36, 35, 19, 10, 6, 12, 35, 20, 19, 8, 7, 8, 18, 12, 30, 30, 13, 6, 24, 17, 11, 23, 23, 30, 8, 7, 30, 36, 29, 23, 30, 31, 45, 47, 19, 35, 9, 11, 26, 11, 10, 17, 46, 66, 43, 29, 19, 26, 47, 51, 35, 9, 6, 8, 11, 22, 7, 6, 33, 44, 38, 41, 20, 23, 24, 40, 27, 14, 27, 43, 20, 20, 22, 14, 28, 11, 12, 16, 22, 31, 18, 25, 11, 14, 22, 3, 23, 17, 23, 32, 23, 21, 22, 20, 9, 22, 21, 16, 35, 22, 14, 16, 16, 31, 25, 32, 17, 19, 3, 23, 12, 10, 21, 52, 55, 33, 25, 35, 22, 27, 15, 28, 22, 27, 29, 21, 12, 17, 13, 17, 27, 17, 11, 14, 19, 25, 15, 13, 20, 37, 18, 48, 36, 19, 23, 73, 16, 5, 14, 15, 8, 25, 36, 30, 9, 14, 8, 27, 21, 15, 39, 21, 22, 17, 25, 18, 18, 16, 9, 2, 15, 18, 9, 22, 26, 6, 25, 32, 22, 23, 13, 33, 29, 20, 39, 20, 31, 21, 12, 30, 14, 17, 25, 5, 9, 27, 25, 76, 1, 42, 20, 34, 17, 14, 37, 15, 23, 35, 35, 21, 10, 4, 33, 34, 21, 51, 17, 52, 14, 28, 42, 19, 25, 8, 14, 6, 44, 14, 47, 34, 28, 33, 17, 18, 21, 41, 14, 6, 39, 15, 40, 17, 27, 17, 48, 5, 41, 27, 12, 38, 47, 17, 8, 28, 18, 8, 15, 13, 46, 28, 2, 20, 12, 20, 9, 14, 24, 36, 10, 17, 16, 9, 7, 20, 20, 32, 23, 18, 36, 24, 37, 24, 31, 33, 46, 1, 11, 35, 17, 8, 20, 22, 14, 7, 10, 5, 12, 23, 18, 10, 22, 17, 11, 24, 13, 30, 17, 30, 4, 19, 30, 39, 37, 41, 23, 32, 10, 37, 18, 24, 13, 6, 24, 18, 43, 27, 31, 43, 25, 16, 11, 9, 19, 23, 10, 14, 31, 17, 23, 14, 20, 14, 3, 16, 13, 29, 40, 18, 20, 22, 35, 3, 28, 15, 13, 32, 13, 11, 10, 20, 16, 29, 13, 12, 22, 10, 24, 15, 3, 17, 22, 33, 20, 5, 26, 10, 12, 29, 10, 31, 3, 15, 7, 30, 46, 23, 6, 17, 18, 20, 31, 7, 12, 21, 19, 16, 25, 41, 9, 14, 25, 7, 13, 16, 8, 14, 16, 9, 14, 20, 12, 13, 9, 15, 13, 18, 16, 20, 21, 10, 18, 10, 24, 21, 19, 14, 33, 18, 27, 10, 34, 22, 17, 40, 15, 13, 8, 20, 8, 17, 19, 10, 10, 12, 9, 30, 22, 12, 13, 39, 26, 26, 18, 11, 22, 5, 14, 15, 39, 12, 26, 15, 33, 7, 38, 11, 42, 46, 29, 31, 29, 29, 50, 27, 13, 25, 9, 29, 29, 15, 34, 9, 48, 31, 20, 29, 43, 39, 21, 35, 24, 26, 29, 27, 32, 16, 8, 27, 17, 23, 11, 12, 12, 11, 14, 28, 12, 35, 45, 10, 18, 10, 34, 28, 45, 27, 19, 38, 22, 23, 26, 20, 34, 23, 15, 25, 16, 32, 23, 20, 31, 24, 26, 8, 42, 14, 12, 10, 13, 42, 17, 33, 27, 18, 24, 30, 22, 32, 10, 32]\n"
     ]
    }
   ],
   "source": [
    "print(lengths)"
   ]
  },
  {
   "cell_type": "code",
   "execution_count": 39,
   "metadata": {
    "collapsed": true
   },
   "outputs": [],
   "source": [
    "myli = list( map(len, nltk.corpus.brown.sents(categories='news')) )"
   ]
  },
  {
   "cell_type": "code",
   "execution_count": 40,
   "metadata": {
    "collapsed": false
   },
   "outputs": [
    {
     "data": {
      "text/plain": [
       "4623"
      ]
     },
     "execution_count": 40,
     "metadata": {},
     "output_type": "execute_result"
    }
   ],
   "source": [
    "len(myli)"
   ]
  },
  {
   "cell_type": "code",
   "execution_count": 41,
   "metadata": {
    "collapsed": true
   },
   "outputs": [],
   "source": [
    "myma = map(len, nltk.corpus.brown.sents(categories='news')) "
   ]
  },
  {
   "cell_type": "code",
   "execution_count": 42,
   "metadata": {
    "collapsed": true
   },
   "outputs": [],
   "source": [
    "myli2 = list(myma)"
   ]
  },
  {
   "cell_type": "code",
   "execution_count": 43,
   "metadata": {
    "collapsed": false
   },
   "outputs": [
    {
     "data": {
      "text/plain": [
       "4623"
      ]
     },
     "execution_count": 43,
     "metadata": {},
     "output_type": "execute_result"
    }
   ],
   "source": [
    "len(myli2)"
   ]
  },
  {
   "cell_type": "code",
   "execution_count": 44,
   "metadata": {
    "collapsed": true
   },
   "outputs": [],
   "source": [
    "# list comprehension\n",
    "lengths = [len(sent) for sent in nltk.corpus.brown.sents(categories='news')]"
   ]
  },
  {
   "cell_type": "code",
   "execution_count": 54,
   "metadata": {
    "collapsed": false
   },
   "outputs": [
    {
     "data": {
      "text/plain": [
       "[2, 2, 1, 1, 2, 0, 1, 1, 2, 1, 2, 2, 1, 3, 0]"
      ]
     },
     "execution_count": 54,
     "metadata": {},
     "output_type": "execute_result"
    }
   ],
   "source": [
    "list(map(lambda w: len( list(filter(lambda c: c.lower() in \"aeiou\", w)) ), sent))"
   ]
  },
  {
   "cell_type": "code",
   "execution_count": 61,
   "metadata": {
    "collapsed": false
   },
   "outputs": [
    {
     "data": {
      "text/plain": [
       "[2, 2, 1, 1, 2, 0, 1, 1, 2, 1, 2, 2, 1, 3, 0]"
      ]
     },
     "execution_count": 61,
     "metadata": {},
     "output_type": "execute_result"
    }
   ],
   "source": [
    "[len(list(c for c in w if c.lower() in \"aeiou\")) for w in sent]"
   ]
  },
  {
   "cell_type": "code",
   "execution_count": 50,
   "metadata": {
    "collapsed": false
   },
   "outputs": [
    {
     "data": {
      "text/plain": [
       "['Take',\n",
       " 'care',\n",
       " 'of',\n",
       " 'the',\n",
       " 'sense',\n",
       " ',',\n",
       " 'and',\n",
       " 'the',\n",
       " 'sounds',\n",
       " 'will',\n",
       " 'take',\n",
       " 'care',\n",
       " 'of',\n",
       " 'themselves',\n",
       " '.']"
      ]
     },
     "execution_count": 50,
     "metadata": {},
     "output_type": "execute_result"
    }
   ],
   "source": [
    "[w for w in sent]"
   ]
  },
  {
   "cell_type": "code",
   "execution_count": 52,
   "metadata": {
    "collapsed": false
   },
   "outputs": [
    {
     "data": {
      "text/plain": [
       "['a', 'u', 'i', 'a']"
      ]
     },
     "execution_count": 52,
     "metadata": {},
     "output_type": "execute_result"
    }
   ],
   "source": [
    "w = 'auita'\n",
    "list(filter(lambda c: c.lower() in \"aeiou\", w))"
   ]
  },
  {
   "cell_type": "code",
   "execution_count": 63,
   "metadata": {
    "collapsed": false
   },
   "outputs": [
    {
     "data": {
      "text/plain": [
       "<filter at 0x106886cc0>"
      ]
     },
     "execution_count": 63,
     "metadata": {},
     "output_type": "execute_result"
    }
   ],
   "source": [
    "filter(lambda c: c.lower() in \"aeiou\", w)"
   ]
  },
  {
   "cell_type": "code",
   "execution_count": 53,
   "metadata": {
    "collapsed": false
   },
   "outputs": [
    {
     "data": {
      "text/plain": [
       "4"
      ]
     },
     "execution_count": 53,
     "metadata": {},
     "output_type": "execute_result"
    }
   ],
   "source": [
    "len(list(filter(lambda c: c.lower() in \"aeiou\", w)))"
   ]
  },
  {
   "cell_type": "code",
   "execution_count": 55,
   "metadata": {
    "collapsed": false
   },
   "outputs": [
    {
     "data": {
      "text/plain": [
       "<generator object <genexpr> at 0x10683da98>"
      ]
     },
     "execution_count": 55,
     "metadata": {},
     "output_type": "execute_result"
    }
   ],
   "source": [
    "(c for c in w if c.lower() in \"aeiou\")"
   ]
  },
  {
   "cell_type": "code",
   "execution_count": 56,
   "metadata": {
    "collapsed": false
   },
   "outputs": [
    {
     "name": "stdout",
     "output_type": "stream",
     "text": [
      "<generator object <genexpr> at 0x1067d4fc0>\n"
     ]
    }
   ],
   "source": [
    "print((c for c in w if c.lower() in \"aeiou\"))"
   ]
  },
  {
   "cell_type": "code",
   "execution_count": 59,
   "metadata": {
    "collapsed": false
   },
   "outputs": [
    {
     "name": "stdout",
     "output_type": "stream",
     "text": [
      "a\n",
      "u\n",
      "i\n",
      "a\n"
     ]
    }
   ],
   "source": [
    "for item in (c for c in w if c.lower() in \"aeiou\"):\n",
    "    print(item)"
   ]
  },
  {
   "cell_type": "code",
   "execution_count": 60,
   "metadata": {
    "collapsed": false
   },
   "outputs": [
    {
     "data": {
      "text/plain": [
       "['a', 'u', 'i', 'a']"
      ]
     },
     "execution_count": 60,
     "metadata": {},
     "output_type": "execute_result"
    }
   ],
   "source": [
    "list((c for c in w if c.lower() in \"aeiou\"))"
   ]
  },
  {
   "cell_type": "markdown",
   "metadata": {},
   "source": [
    "## Named Arguments"
   ]
  },
  {
   "cell_type": "code",
   "execution_count": 65,
   "metadata": {
    "collapsed": true
   },
   "outputs": [],
   "source": [
    "def repeat(msg='<empty>', num=1):\n",
    "    return msg * num"
   ]
  },
  {
   "cell_type": "code",
   "execution_count": 66,
   "metadata": {
    "collapsed": false
   },
   "outputs": [
    {
     "data": {
      "text/plain": [
       "'<empty><empty><empty>'"
      ]
     },
     "execution_count": 66,
     "metadata": {},
     "output_type": "execute_result"
    }
   ],
   "source": [
    "repeat(num=3)"
   ]
  },
  {
   "cell_type": "code",
   "execution_count": 67,
   "metadata": {
    "collapsed": false
   },
   "outputs": [
    {
     "data": {
      "text/plain": [
       "'Alice'"
      ]
     },
     "execution_count": 67,
     "metadata": {},
     "output_type": "execute_result"
    }
   ],
   "source": [
    "repeat(msg='Alice')"
   ]
  },
  {
   "cell_type": "code",
   "execution_count": 68,
   "metadata": {
    "collapsed": false
   },
   "outputs": [
    {
     "data": {
      "text/plain": [
       "'AliceAliceAliceAliceAlice'"
      ]
     },
     "execution_count": 68,
     "metadata": {},
     "output_type": "execute_result"
    }
   ],
   "source": [
    "repeat(num=5, msg='Alice')"
   ]
  },
  {
   "cell_type": "code",
   "execution_count": 69,
   "metadata": {
    "collapsed": true
   },
   "outputs": [],
   "source": [
    "def generic(*args, **kwargs):\n",
    "    print(args)\n",
    "    print(kwargs)"
   ]
  },
  {
   "cell_type": "markdown",
   "metadata": {},
   "source": [
    "### keyword arguments"
   ]
  },
  {
   "cell_type": "code",
   "execution_count": 70,
   "metadata": {
    "collapsed": false
   },
   "outputs": [
    {
     "name": "stdout",
     "output_type": "stream",
     "text": [
      "(1, 'African swallow')\n",
      "{'monty': 'python'}\n"
     ]
    }
   ],
   "source": [
    "generic(1, \"African swallow\", monty=\"python\")"
   ]
  },
  {
   "cell_type": "code",
   "execution_count": 71,
   "metadata": {
    "collapsed": true
   },
   "outputs": [],
   "source": [
    "song = [['four', 'calling', 'birds'],\n",
    "    ['three', 'French', 'hens'],\n",
    "    ['two', 'turtle', 'doves']]"
   ]
  },
  {
   "cell_type": "code",
   "execution_count": 72,
   "metadata": {
    "collapsed": false
   },
   "outputs": [
    {
     "data": {
      "text/plain": [
       "[('four', 'three', 'two'),\n",
       " ('calling', 'French', 'turtle'),\n",
       " ('birds', 'hens', 'doves')]"
      ]
     },
     "execution_count": 72,
     "metadata": {},
     "output_type": "execute_result"
    }
   ],
   "source": [
    "list(zip(song[0], song[1], song[2]))"
   ]
  },
  {
   "cell_type": "code",
   "execution_count": 73,
   "metadata": {
    "collapsed": false
   },
   "outputs": [
    {
     "data": {
      "text/plain": [
       "[('four', 'three', 'two'),\n",
       " ('calling', 'French', 'turtle'),\n",
       " ('birds', 'hens', 'doves')]"
      ]
     },
     "execution_count": 73,
     "metadata": {},
     "output_type": "execute_result"
    }
   ],
   "source": [
    "list(zip(*song))"
   ]
  },
  {
   "cell_type": "code",
   "execution_count": 78,
   "metadata": {
    "collapsed": false
   },
   "outputs": [],
   "source": [
    "import nltk\n",
    "from nltk import word_tokenize\n",
    "\n",
    "def freq_words(file, min=1, num=10):\n",
    "    text = open(file).read()\n",
    "    tokens = word_tokenize(text)\n",
    "    freqdist = nltk.FreqDist(t for t in tokens if len(t) >= min)\n",
    "    return freqdist.most_common(num)\n",
    "\n",
    "fw = freq_words('ch01.rst', 4, 10)\n",
    "fw = freq_words('ch01.rst', min=4, num=10)\n",
    "fw = freq_words('ch01.rst', num=10, min=4)"
   ]
  },
  {
   "cell_type": "code",
   "execution_count": 79,
   "metadata": {
    "collapsed": false
   },
   "outputs": [
    {
     "data": {
      "text/plain": [
       "[('that', 137),\n",
       " ('words', 123),\n",
       " ('text', 110),\n",
       " ('Python', 98),\n",
       " ('this', 98),\n",
       " ('with', 91),\n",
       " ('word', 91),\n",
       " ('from', 57),\n",
       " ('have', 52),\n",
       " ('list', 52)]"
      ]
     },
     "execution_count": 79,
     "metadata": {},
     "output_type": "execute_result"
    }
   ],
   "source": [
    "fw"
   ]
  },
  {
   "cell_type": "code",
   "execution_count": 80,
   "metadata": {
    "collapsed": true
   },
   "outputs": [],
   "source": [
    "def freq_words(file, min=1, num=10, verbose=False):\n",
    "    freqdist = FreqDist()\n",
    "    if verbose: print(\"Opening\", file)\n",
    "    text = open(file).read()\n",
    "    if verbose: print(\"Read in %d characters\" % len(file))\n",
    "    for word in word_tokenize(text):\n",
    "        if len(word) >= min:\n",
    "            freqdist[word] += 1\n",
    "            if verbose and freqdist.N() % 100 == 0: print(\".\", sep=\"\")\n",
    "    if verbose: print\n",
    "    return freqdist.most_common(num)"
   ]
  },
  {
   "cell_type": "code",
   "execution_count": null,
   "metadata": {
    "collapsed": true
   },
   "outputs": [],
   "source": [
    "# using   with,  Python will close open files automatically\n",
    "# with open(\"lexicon.txt\") as f:\n",
    "#     data = f.read()"
   ]
  },
  {
   "cell_type": "code",
   "execution_count": null,
   "metadata": {
    "collapsed": true
   },
   "outputs": [],
   "source": [
    "# CAUTION\n",
    "# do not use   mutable object   as   default value   of   parameter"
   ]
  }
 ],
 "metadata": {
  "kernelspec": {
   "display_name": "Python 3",
   "language": "python",
   "name": "python3"
  },
  "language_info": {
   "codemirror_mode": {
    "name": "ipython",
    "version": 3
   },
   "file_extension": ".py",
   "mimetype": "text/x-python",
   "name": "python",
   "nbconvert_exporter": "python",
   "pygments_lexer": "ipython3",
   "version": "3.6.0"
  }
 },
 "nbformat": 4,
 "nbformat_minor": 2
}
