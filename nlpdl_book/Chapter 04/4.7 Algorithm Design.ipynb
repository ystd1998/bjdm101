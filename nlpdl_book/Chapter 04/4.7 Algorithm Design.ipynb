{
 "cells": [
  {
   "cell_type": "markdown",
   "metadata": {
    "deletable": true,
    "editable": true
   },
   "source": [
    "divide and conquer"
   ]
  },
  {
   "cell_type": "markdown",
   "metadata": {
    "deletable": true,
    "editable": true
   },
   "source": [
    "- transform into a problem we already know how to solve, or that we understand\n",
    "- to detect duplicates\n",
    "- first, sort\n",
    "- then, check adjacent elements"
   ]
  },
  {
   "cell_type": "markdown",
   "metadata": {
    "deletable": true,
    "editable": true
   },
   "source": [
    "## Recursion"
   ]
  },
  {
   "cell_type": "code",
   "execution_count": 2,
   "metadata": {
    "collapsed": true,
    "deletable": true,
    "editable": true
   },
   "outputs": [],
   "source": [
    "def factorial1(n):\n",
    "    result = 1\n",
    "    for i in range(n):\n",
    "        result *= (i+1)\n",
    "    return result"
   ]
  },
  {
   "cell_type": "code",
   "execution_count": 3,
   "metadata": {
    "collapsed": true,
    "deletable": true,
    "editable": true
   },
   "outputs": [],
   "source": [
    "def factorial2(n):\n",
    "    if n == 1:\n",
    "        return 1\n",
    "    else:\n",
    "        return n * factorial2(n-1)"
   ]
  },
  {
   "cell_type": "code",
   "execution_count": 4,
   "metadata": {
    "collapsed": false,
    "deletable": true,
    "editable": true
   },
   "outputs": [
    {
     "data": {
      "text/plain": [
       "1"
      ]
     },
     "execution_count": 4,
     "metadata": {},
     "output_type": "execute_result"
    }
   ],
   "source": [
    "factorial1(0)"
   ]
  },
  {
   "cell_type": "code",
   "execution_count": 6,
   "metadata": {
    "collapsed": false,
    "deletable": true,
    "editable": true
   },
   "outputs": [
    {
     "data": {
      "text/plain": [
       "1"
      ]
     },
     "execution_count": 6,
     "metadata": {},
     "output_type": "execute_result"
    }
   ],
   "source": [
    "factorial2(1)"
   ]
  },
  {
   "cell_type": "code",
   "execution_count": 7,
   "metadata": {
    "collapsed": true,
    "deletable": true,
    "editable": true
   },
   "outputs": [],
   "source": [
    "def size1(s):\n",
    "    return 1 + sum(size1(child) for child in s.hyponyms())"
   ]
  },
  {
   "cell_type": "code",
   "execution_count": 12,
   "metadata": {
    "collapsed": true,
    "deletable": true,
    "editable": true
   },
   "outputs": [],
   "source": [
    "# longer and harder to understand\n",
    "# iterative\n",
    "# procedural\n",
    "def size2(s):\n",
    "    layer = [s]\n",
    "    total = 0\n",
    "    while layer:\n",
    "        total += len(layer)\n",
    "        layer = [h for c in layer for h in c.hyponyms()]\n",
    "    return total"
   ]
  },
  {
   "cell_type": "code",
   "execution_count": 9,
   "metadata": {
    "collapsed": true,
    "deletable": true,
    "editable": true
   },
   "outputs": [],
   "source": [
    "from nltk.corpus import wordnet as wn\n",
    "dog = wn.synset('dog.n.01')"
   ]
  },
  {
   "cell_type": "code",
   "execution_count": 10,
   "metadata": {
    "collapsed": false,
    "deletable": true,
    "editable": true
   },
   "outputs": [
    {
     "data": {
      "text/plain": [
       "190"
      ]
     },
     "execution_count": 10,
     "metadata": {},
     "output_type": "execute_result"
    }
   ],
   "source": [
    "size1(dog)"
   ]
  },
  {
   "cell_type": "code",
   "execution_count": 13,
   "metadata": {
    "collapsed": false,
    "deletable": true,
    "editable": true
   },
   "outputs": [
    {
     "data": {
      "text/plain": [
       "190"
      ]
     },
     "execution_count": 13,
     "metadata": {},
     "output_type": "execute_result"
    }
   ],
   "source": [
    "size2(dog)"
   ]
  },
  {
   "cell_type": "code",
   "execution_count": 14,
   "metadata": {
    "collapsed": true,
    "deletable": true,
    "editable": true
   },
   "outputs": [],
   "source": [
    "# retrieval\n",
    "# letter trie"
   ]
  },
  {
   "cell_type": "code",
   "execution_count": 15,
   "metadata": {
    "collapsed": true,
    "deletable": true,
    "editable": true
   },
   "outputs": [],
   "source": [
    "def insert(trie, key, value):\n",
    "    if key:\n",
    "        first, rest = key[0], key[1:]\n",
    "        if first not in trie:\n",
    "            trie[first] = {}\n",
    "        insert(trie[first], rest, value)\n",
    "    else:\n",
    "        trie['value'] = value"
   ]
  },
  {
   "cell_type": "code",
   "execution_count": 16,
   "metadata": {
    "collapsed": true,
    "deletable": true,
    "editable": true
   },
   "outputs": [],
   "source": [
    "trie = {}\n",
    "insert(trie, 'chat', 'cat')\n",
    "insert(trie, 'chien', 'dog')\n",
    "insert(trie, 'chair', 'flesh')\n",
    "insert(trie, 'chic', 'stylish')"
   ]
  },
  {
   "cell_type": "code",
   "execution_count": 17,
   "metadata": {
    "collapsed": true,
    "deletable": true,
    "editable": true
   },
   "outputs": [],
   "source": [
    "trie = dict(trie) # for nicer printing"
   ]
  },
  {
   "cell_type": "code",
   "execution_count": 18,
   "metadata": {
    "collapsed": false,
    "deletable": true,
    "editable": true
   },
   "outputs": [
    {
     "data": {
      "text/plain": [
       "'cat'"
      ]
     },
     "execution_count": 18,
     "metadata": {},
     "output_type": "execute_result"
    }
   ],
   "source": [
    "trie['c']['h']['a']['t']['value']"
   ]
  },
  {
   "cell_type": "code",
   "execution_count": 20,
   "metadata": {
    "collapsed": false,
    "deletable": true,
    "editable": true
   },
   "outputs": [
    {
     "name": "stdout",
     "output_type": "stream",
     "text": [
      "{'c': {'h': {'a': {'i': {'r': {'value': 'flesh'}},\n",
      "                   't': {'value': 'cat'}},\n",
      "             'i': {'c': {'value': 'stylish'},\n",
      "                   'e': {'n': {'value': 'dog'}}}}}}\n"
     ]
    }
   ],
   "source": [
    "import pprint\n",
    "pprint.pprint(trie, width=40)"
   ]
  },
  {
   "cell_type": "markdown",
   "metadata": {
    "deletable": true,
    "editable": true
   },
   "source": [
    "- simplicity\n",
    "- expensive, each loop -> state info into the stack"
   ]
  },
  {
   "cell_type": "markdown",
   "metadata": {
    "deletable": true,
    "editable": true
   },
   "source": [
    "## Space-Time Tradeoffs"
   ]
  },
  {
   "cell_type": "code",
   "execution_count": 23,
   "metadata": {
    "collapsed": false,
    "deletable": true,
    "editable": true
   },
   "outputs": [
    {
     "name": "stdout",
     "output_type": "stream",
     "text": [
      "Building Index...\n",
      "query> titanic\n",
      "e flood tale could have had . titanic proved that there can \n",
      "y oscar-winner james horner ( titanic ) , one might have exp\n",
      "ip -- no , it wouldn't be the titanic , that would imply gla\n",
      " check out whatever's left of titanic ) , the virtually non-\n",
      " check out whatever's left of titanic ) , the virtually non-\n",
      "els like tremors grafted onto titanic ( everyone else is cit\n",
      "els like tremors grafted onto titanic ( everyone else is cit\n",
      "els like tremors grafted onto titanic ( everyone else is cit\n",
      "though it feels longer than \" titanic \" , and is rated r for\n",
      "io for the thirteenth time in titanic to catch a glimpse of \n",
      "-- if these people had seen \" titanic , \" then maybe they'd \n",
      "-- if these people had seen \" titanic , \" then maybe they'd \n",
      " when it's half the length of titanic , but seems much longe\n",
      "hat kate winslet floats on in titanic . it's an exceptionlly\n",
      "y bad . it stars billy zane ( titanic ) as a dangerous lunat\n",
      " suffer from its proximity to titanic . deep rising's peril \n",
      "olute power ) and suzy amis ( titanic ) is to accidentally f\n",
      "tor sandar ( david warner , \" titanic \" ) and simian bleedin\n",
      "ood will hunting ( 1997 ) and titanic ( 1997 ) , even though\n",
      " . kate winslet , in a pre- \" titanic \" performance , is bri\n",
      " . kate winslet , in a pre- \" titanic \" performance , is bri\n",
      "high as the scores for both \" titanic \" and \" rosewood \" as \n",
      "ameron's most heralded film , titanic . postponed from last \n",
      "ameron's most heralded film , titanic . postponed from last \n",
      "ameron's most heralded film , titanic . postponed from last \n",
      "ameron's most heralded film , titanic . postponed from last \n",
      "ameron's most heralded film , titanic . postponed from last \n",
      "ameron's most heralded film , titanic . postponed from last \n",
      "ameron's most heralded film , titanic . postponed from last \n",
      "ameron's most heralded film , titanic . postponed from last \n",
      "ameron's most heralded film , titanic . postponed from last \n",
      "ameron's most heralded film , titanic . postponed from last \n",
      "ameron's most heralded film , titanic . postponed from last \n",
      "ameron's most heralded film , titanic . postponed from last \n",
      "ameron's most heralded film , titanic . postponed from last \n",
      "                              titanic is so close to being t\n",
      "                              titanic is so close to being t\n",
      "                              titanic is so close to being t\n",
      "                              titanic is so close to being t\n",
      "                              titanic is so close to being t\n",
      "                              titanic is so close to being t\n",
      "                              titanic is so close to being t\n",
      "                              titanic is so close to being t\n",
      "                              titanic is so close to being t\n",
      "                              titanic is so close to being t\n",
      "                              titanic is so close to being t\n",
      "                              titanic is so close to being t\n",
      "                              titanic is so close to being t\n",
      "s applause throughout . while titanic managed to feast the e\n",
      "red as the movie that knocked titanic ( 7/10 ) out of the to\n",
      "bout , but here goes . . . is titanic the gone with the wind\n",
      "bout , but here goes . . . is titanic the gone with the wind\n",
      "bout , but here goes . . . is titanic the gone with the wind\n",
      "bout , but here goes . . . is titanic the gone with the wind\n",
      "bout , but here goes . . . is titanic the gone with the wind\n",
      "bout , but here goes . . . is titanic the gone with the wind\n",
      "bout , but here goes . . . is titanic the gone with the wind\n",
      "bout , but here goes . . . is titanic the gone with the wind\n",
      "bout , but here goes . . . is titanic the gone with the wind\n",
      "bout , but here goes . . . is titanic the gone with the wind\n",
      "bout , but here goes . . . is titanic the gone with the wind\n",
      "bout , but here goes . . . is titanic the gone with the wind\n",
      "bout , but here goes . . . is titanic the gone with the wind\n",
      "bout , but here goes . . . is titanic the gone with the wind\n",
      " be a big hit in the style of titanic , but then again no ot\n",
      "btly serious . very much like titanic , run lola run is an a\n",
      "                              titanic is , without a doubt ,\n",
      "                              titanic is , without a doubt ,\n",
      "                              titanic is , without a doubt ,\n",
      "                              titanic is , without a doubt ,\n",
      "                              titanic is , without a doubt ,\n",
      "                              titanic is , without a doubt ,\n",
      "                              titanic is , without a doubt ,\n",
      "                              titanic is , without a doubt ,\n",
      "                              titanic is , without a doubt ,\n",
      "                              titanic is , without a doubt ,\n",
      " is generation secrecy of a \" titanic \" proportion . let's h\n",
      "i saw the first trailer for \" titanic \" , it was when i went\n",
      "i saw the first trailer for \" titanic \" , it was when i went\n",
      "i saw the first trailer for \" titanic \" , it was when i went\n",
      "i saw the first trailer for \" titanic \" , it was when i went\n",
      "i saw the first trailer for \" titanic \" , it was when i went\n",
      ". on that fateful night , the titanic sunk . now , more than\n",
      ". on that fateful night , the titanic sunk . now , more than\n",
      " school . after having viewed titanic , however , i found it\n",
      " school . after having viewed titanic , however , i found it\n",
      " school . after having viewed titanic , however , i found it\n",
      " school . after having viewed titanic , however , i found it\n",
      " school . after having viewed titanic , however , i found it\n",
      " school . after having viewed titanic , however , i found it\n",
      " school . after having viewed titanic , however , i found it\n",
      " school . after having viewed titanic , however , i found it\n",
      " school . after having viewed titanic , however , i found it\n",
      " school . after having viewed titanic , however , i found it\n",
      " school . after having viewed titanic , however , i found it\n",
      " school . after having viewed titanic , however , i found it\n",
      "omes ( waiting a month to see titanic did the same thing ) .\n",
      " the last eighty minutes of \" titanic , \" when the behemoth \n",
      "rse . if i so much as mention titanic in the same sentence .\n",
      "rse . if i so much as mention titanic in the same sentence .\n",
      "ane for being disturbing , or titanic for being lofty and ep\n",
      "ransport onto the deck of the titanic . meanwhile , the evil\n",
      "r , going head-to-head with \" titanic , \" but is only now ma\n",
      " . amazingly , he was right . titanic is one of the few long\n",
      " . amazingly , he was right . titanic is one of the few long\n",
      " . amazingly , he was right . titanic is one of the few long\n",
      " . amazingly , he was right . titanic is one of the few long\n",
      " . amazingly , he was right . titanic is one of the few long\n",
      " in the present day , the rms titanic is explored by brock l\n",
      " in the present day , the rms titanic is explored by brock l\n",
      " in the present day , the rms titanic is explored by brock l\n",
      " in the present day , the rms titanic is explored by brock l\n",
      " in the present day , the rms titanic is explored by brock l\n",
      " like it wants to make fun of titanic , but it never develop\n",
      "treets . it looks as phony as titanic , but unlike james cam\n",
      "historical trivia . the movie titanic shows what happened , \n",
      "historical trivia . the movie titanic shows what happened , \n",
      "historical trivia . the movie titanic shows what happened , \n",
      "historical trivia . the movie titanic shows what happened , \n",
      "historical trivia . the movie titanic shows what happened , \n",
      "historical trivia . the movie titanic shows what happened , \n",
      "query> quit\n",
      "s funded by her mother . lucy quit working professionally 10\n",
      "erick . i disliked that movie quite a bit , but since \" prac\n",
      "t disaster . babe ruth didn't quit baseball after one season\n",
      "o-be fiance . i think she can quit that job and get a more r\n",
      " and rose mcgowan should just quit acting . she has no chari\n",
      "and get a day job . and don't quit it .                     \n",
      " kubrick , alas , should have quit while he was ahead . this\n",
      "everyone involved should have quit while they were still ahe\n",
      "l die . so what does joe do ? quit his job , of course ! ! w\n",
      "red \" implant . he's ready to quit the biz and get a portion\n",
      "hat he always recorded , they quit and become disillusioned \n",
      " admit that i ? ? ? ve become quite the \" scream \" fan . no \n",
      " again , the fact that he has quit his job to feel what it's\n",
      "school reunion . he has since quit his job as a travel journ\n",
      "ells one of his friends , \" i quit school because i didn't l\n",
      "ms , cursing off the boss and quitting his job ( \" today i q\n",
      "e , the arrival of the now ubiquitous videocassette . burt r\n",
      "in capitol city , that he has quit his job and hopes to open\n",
      "before his death at age 67 to quit filmmaking once a homosex\n",
      " - joss's explanation that he quit the priesthood because of\n",
      " is a former prosecutor , and quit because of tensions betwe\n"
     ]
    }
   ],
   "source": [
    "import nltk\n",
    "from nltk import re\n",
    "\n",
    "def raw(file):\n",
    "    contents = open(file).read()\n",
    "    contents = re.sub(r'<.*?>', ' ', contents)\n",
    "    contents = re.sub('\\s+', ' ', contents)\n",
    "    return contents\n",
    "\n",
    "def snippet(doc, term):\n",
    "    text = ' '*30 + raw(doc) + ' '*30\n",
    "    pos = text.index(term)\n",
    "    return text[pos-30:pos+30]\n",
    "\n",
    "print(\"Building Index...\")\n",
    "files = nltk.corpus.movie_reviews.abspaths()\n",
    "idx = nltk.Index((w, f) for f in files for w in raw(f).split())\n",
    "\n",
    "query = ''\n",
    "while query != \"quit\":\n",
    "    query = input(\"query> \")     # use raw_input() in Python 2\n",
    "    if query in idx:\n",
    "        for doc in idx[query]:\n",
    "            print(snippet(doc, query))\n",
    "    else:\n",
    "        print(\"Not found\")"
   ]
  },
  {
   "cell_type": "code",
   "execution_count": 24,
   "metadata": {
    "collapsed": true,
    "deletable": true,
    "editable": true
   },
   "outputs": [],
   "source": [
    "def preprocess(tagged_corpus):\n",
    "    words = set()\n",
    "    tags = set()\n",
    "    for sent in tagged_corpus:\n",
    "        for word, tag in sent:\n",
    "            words.add(word)\n",
    "            tags.add(tag)\n",
    "    wm = dict((w, i) for (i, w) in enumerate(words))\n",
    "    tm = dict((t, i) for (i, t) in enumerate(tags))\n",
    "    return [[(wm[w], tm[t]) for (w, t) in sent] for sent in tagged_corpus]"
   ]
  },
  {
   "cell_type": "code",
   "execution_count": null,
   "metadata": {
    "collapsed": false,
    "deletable": true,
    "editable": true
   },
   "outputs": [],
   "source": [
    "from timeit import Timer\n",
    "vocab_size = 1000\n",
    "setup_list = \"import random; vocab = range(%d)\" % vocab_size\n",
    "setup_set = \"import random; vocab = set(range(%d))\" % vocab_size\n",
    "statement = \"random.randint(0, %d) in vocab\" % (vocab_size * 2)"
   ]
  },
  {
   "cell_type": "code",
   "execution_count": null,
   "metadata": {
    "collapsed": false,
    "deletable": true,
    "editable": true
   },
   "outputs": [],
   "source": [
    "print(Timer(statement, setup_list).timeit(1000))"
   ]
  },
  {
   "cell_type": "code",
   "execution_count": null,
   "metadata": {
    "collapsed": false,
    "deletable": true,
    "editable": true
   },
   "outputs": [],
   "source": [
    "print(Timer(statement, setup_set).timeit(1000))"
   ]
  },
  {
   "cell_type": "markdown",
   "metadata": {
    "collapsed": true,
    "deletable": true,
    "editable": true
   },
   "source": [
    "## Dynamic Programming"
   ]
  },
  {
   "cell_type": "code",
   "execution_count": 2,
   "metadata": {
    "collapsed": true
   },
   "outputs": [],
   "source": [
    "def virahanka1(n):\n",
    "    if n == 0:\n",
    "        return [\"\"]\n",
    "    elif n == 1:\n",
    "        return [\"S\"]\n",
    "    else:\n",
    "        s = [\"S\" + prosody for prosody in virahanka1(n-1)]\n",
    "        l = [\"L\" + prosody for prosody in virahanka1(n-2)]\n",
    "        return s + l\n",
    "\n",
    "def virahanka2(n):\n",
    "    lookup = [[\"\"], [\"S\"]]\n",
    "    for i in range(n-1):\n",
    "        s = [\"S\" + prosody for prosody in lookup[i+1]]\n",
    "        l = [\"L\" + prosody for prosody in lookup[i]]\n",
    "        lookup.append(s + l)\n",
    "    return lookup[n]\n",
    "\n",
    "def virahanka3(n, lookup={0:[\"\"], 1:[\"S\"]}):\n",
    "    if n not in lookup:\n",
    "        s = [\"S\" + prosody for prosody in virahanka3(n-1)]\n",
    "        l = [\"L\" + prosody for prosody in virahanka3(n-2)]\n",
    "        lookup[n] = s + l\n",
    "    return lookup[n]\n",
    "\n",
    "from nltk import memoize\n",
    "@memoize\n",
    "def virahanka4(n):\n",
    "    if n == 0:\n",
    "        return [\"\"]\n",
    "    elif n == 1:\n",
    "        return [\"S\"]\n",
    "    else:\n",
    "        s = [\"S\" + prosody for prosody in virahanka4(n-1)]\n",
    "        l = [\"L\" + prosody for prosody in virahanka4(n-2)]\n",
    "        return s + l"
   ]
  },
  {
   "cell_type": "code",
   "execution_count": 3,
   "metadata": {
    "collapsed": false
   },
   "outputs": [
    {
     "data": {
      "text/plain": [
       "['SSSS', 'SSL', 'SLS', 'LSS', 'LL']"
      ]
     },
     "execution_count": 3,
     "metadata": {},
     "output_type": "execute_result"
    }
   ],
   "source": [
    "virahanka1(4)"
   ]
  },
  {
   "cell_type": "code",
   "execution_count": 4,
   "metadata": {
    "collapsed": false
   },
   "outputs": [
    {
     "data": {
      "text/plain": [
       "['SSSS', 'SSL', 'SLS', 'LSS', 'LL']"
      ]
     },
     "execution_count": 4,
     "metadata": {},
     "output_type": "execute_result"
    }
   ],
   "source": [
    "virahanka2(4)"
   ]
  },
  {
   "cell_type": "code",
   "execution_count": 5,
   "metadata": {
    "collapsed": false
   },
   "outputs": [
    {
     "data": {
      "text/plain": [
       "['SSSS', 'SSL', 'SLS', 'LSS', 'LL']"
      ]
     },
     "execution_count": 5,
     "metadata": {},
     "output_type": "execute_result"
    }
   ],
   "source": [
    "virahanka3(4)"
   ]
  },
  {
   "cell_type": "code",
   "execution_count": 6,
   "metadata": {
    "collapsed": false
   },
   "outputs": [
    {
     "data": {
      "text/plain": [
       "['SSSS', 'SSL', 'SLS', 'LSS', 'LL']"
      ]
     },
     "execution_count": 6,
     "metadata": {},
     "output_type": "execute_result"
    }
   ],
   "source": [
    "virahanka4(4)"
   ]
  },
  {
   "cell_type": "code",
   "execution_count": null,
   "metadata": {
    "collapsed": true
   },
   "outputs": [],
   "source": []
  }
 ],
 "metadata": {
  "kernelspec": {
   "display_name": "Python 3",
   "language": "python",
   "name": "python3"
  },
  "language_info": {
   "codemirror_mode": {
    "name": "ipython",
    "version": 3
   },
   "file_extension": ".py",
   "mimetype": "text/x-python",
   "name": "python",
   "nbconvert_exporter": "python",
   "pygments_lexer": "ipython3",
   "version": "3.6.0"
  }
 },
 "nbformat": 4,
 "nbformat_minor": 2
}
