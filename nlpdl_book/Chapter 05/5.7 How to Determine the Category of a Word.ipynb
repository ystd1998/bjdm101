{
 "cells": [
  {
   "cell_type": "markdown",
   "metadata": {},
   "source": [
    "# 7.1 Morphological Clues"
   ]
  },
  {
   "cell_type": "markdown",
   "metadata": {},
   "source": [
    "suffix\n",
    "\n",
    "-ing vs gerund"
   ]
  },
  {
   "cell_type": "markdown",
   "metadata": {},
   "source": [
    "# 7.2 Syntactic Clues"
   ]
  },
  {
   "cell_type": "markdown",
   "metadata": {},
   "source": [
    "typical context"
   ]
  },
  {
   "cell_type": "markdown",
   "metadata": {},
   "source": [
    "# 7.3 Semantic Clues"
   ]
  },
  {
   "cell_type": "markdown",
   "metadata": {},
   "source": [
    "meaning, translations"
   ]
  },
  {
   "cell_type": "markdown",
   "metadata": {},
   "source": [
    "# 7.4 New Words"
   ]
  },
  {
   "cell_type": "markdown",
   "metadata": {},
   "source": [
    "nouns is an open class, because acquire new lexical items, new words\n",
    "\n",
    "prepositions are a closed class"
   ]
  },
  {
   "cell_type": "markdown",
   "metadata": {},
   "source": [
    "# 7.5 Morphology is Part of Speech Tagsets"
   ]
  },
  {
   "cell_type": "markdown",
   "metadata": {},
   "source": [
    "grammatical rules\n",
    "\n",
    "fine-grained tagset\n",
    "\n",
    "verb to be"
   ]
  },
  {
   "cell_type": "code",
   "execution_count": null,
   "metadata": {
    "collapsed": true
   },
   "outputs": [],
   "source": []
  }
 ],
 "metadata": {
  "kernelspec": {
   "display_name": "Python 3",
   "language": "python",
   "name": "python3"
  },
  "language_info": {
   "codemirror_mode": {
    "name": "ipython",
    "version": 3
   },
   "file_extension": ".py",
   "mimetype": "text/x-python",
   "name": "python",
   "nbconvert_exporter": "python",
   "pygments_lexer": "ipython3",
   "version": "3.6.0"
  }
 },
 "nbformat": 4,
 "nbformat_minor": 2
}
